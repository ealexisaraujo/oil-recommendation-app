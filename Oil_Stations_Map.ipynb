{
 "cells": [
  {
   "cell_type": "code",
   "execution_count": 32,
   "metadata": {},
   "outputs": [
    {
     "data": {
      "text/plain": [
       "True"
      ]
     },
     "execution_count": 32,
     "metadata": {},
     "output_type": "execute_result"
    }
   ],
   "source": [
    "import requests\n",
    "import random\n",
    "import pandas as pd \n",
    "from tqdm import tqdm\n",
    "import json \n",
    "\n",
    "import ast\n",
    "\n",
    "# Tools\n",
    "\n",
    "import folium\n",
    "from shapely.geometry import Polygon\n",
    "import numpy as np\n",
    "import geojson\n",
    "import matplotlib.pyplot as plt\n",
    "import geopandas as gpd\n",
    "import shapely.wkt\n",
    "from haversine import haversine, Unit\n",
    "import time\n",
    "from pyproj import Geod\n",
    "\n",
    "from shapely import wkt\n",
    "from geopandas import datasets, GeoDataFrame, read_file, points_from_xy\n",
    "from geopandas.tools import overlay\n",
    "from geopandas.tools import sjoin\n",
    "\n",
    "from folium.plugins import MeasureControl\n",
    "from folium.plugins import MarkerCluster\n",
    "\n",
    "import os\n",
    "from dotenv import load_dotenv\n",
    "\n",
    "load_dotenv()"
   ]
  },
  {
   "cell_type": "code",
   "execution_count": 33,
   "metadata": {},
   "outputs": [
    {
     "data": {
      "text/plain": [
       "'DmGXxjVgjYt4B3b8JOXGG6LLqVP3koaMtAcb7pu-epo'"
      ]
     },
     "execution_count": 33,
     "metadata": {},
     "output_type": "execute_result"
    }
   ],
   "source": [
    "YOUR_API_KEY = os.getenv('API_KEY')\n",
    "YOUR_API_KEY"
   ]
  },
  {
   "cell_type": "code",
   "execution_count": 34,
   "metadata": {},
   "outputs": [],
   "source": [
    "df_map = pd.read_csv('DATASET_FINAL.csv')"
   ]
  },
  {
   "cell_type": "code",
   "execution_count": 35,
   "metadata": {},
   "outputs": [
    {
     "data": {
      "text/html": [
       "<div>\n",
       "<style scoped>\n",
       "    .dataframe tbody tr th:only-of-type {\n",
       "        vertical-align: middle;\n",
       "    }\n",
       "\n",
       "    .dataframe tbody tr th {\n",
       "        vertical-align: top;\n",
       "    }\n",
       "\n",
       "    .dataframe thead th {\n",
       "        text-align: right;\n",
       "    }\n",
       "</style>\n",
       "<table border=\"1\" class=\"dataframe\">\n",
       "  <thead>\n",
       "    <tr style=\"text-align: right;\">\n",
       "      <th></th>\n",
       "      <th>Periodo</th>\n",
       "      <th>Mes</th>\n",
       "      <th>Codigo_departamento</th>\n",
       "      <th>Departamento</th>\n",
       "      <th>Codigo_municipio</th>\n",
       "      <th>Municipio</th>\n",
       "      <th>Nombre_comercial</th>\n",
       "      <th>Bandera</th>\n",
       "      <th>Direccion</th>\n",
       "      <th>Producto</th>\n",
       "      <th>Precio</th>\n",
       "      <th>Estado</th>\n",
       "      <th>Dir2</th>\n",
       "      <th>Full_Address</th>\n",
       "      <th>Coords</th>\n",
       "    </tr>\n",
       "  </thead>\n",
       "  <tbody>\n",
       "    <tr>\n",
       "      <th>0</th>\n",
       "      <td>2022</td>\n",
       "      <td>2</td>\n",
       "      <td>11</td>\n",
       "      <td>BOGOTA D.C.</td>\n",
       "      <td>11001</td>\n",
       "      <td>BOGOTA  D.C.</td>\n",
       "      <td>SUPER ESTACION DE SERVICIO TEXACO 10</td>\n",
       "      <td>TEXACO</td>\n",
       "      <td>AVENIDA CARRERA 7 No. 123A-48</td>\n",
       "      <td>GASOLINA CORRIENTE OXIGENADA</td>\n",
       "      <td>9860</td>\n",
       "      <td>A</td>\n",
       "      <td>AVENIDA CARRERA 7 No. 123A-48</td>\n",
       "      <td>AVENIDA CARRERA 7 No. 123A-48, Bogota  d.c., C...</td>\n",
       "      <td>(4.69921, -74.02878)</td>\n",
       "    </tr>\n",
       "    <tr>\n",
       "      <th>1</th>\n",
       "      <td>2022</td>\n",
       "      <td>2</td>\n",
       "      <td>11</td>\n",
       "      <td>BOGOTA D.C.</td>\n",
       "      <td>11001</td>\n",
       "      <td>BOGOTA  D.C.</td>\n",
       "      <td>SUPER ESTACION DE SERVICIO TEXACO 10</td>\n",
       "      <td>TEXACO</td>\n",
       "      <td>AVENIDA CARRERA 7 No. 123A-48</td>\n",
       "      <td>BIODIESEL EXTRA</td>\n",
       "      <td>9780</td>\n",
       "      <td>A</td>\n",
       "      <td>AVENIDA CARRERA 7 No. 123A-48</td>\n",
       "      <td>AVENIDA CARRERA 7 No. 123A-48, Bogota  d.c., C...</td>\n",
       "      <td>(4.69921, -74.02878)</td>\n",
       "    </tr>\n",
       "  </tbody>\n",
       "</table>\n",
       "</div>"
      ],
      "text/plain": [
       "   Periodo  Mes  Codigo_departamento Departamento  Codigo_municipio  \\\n",
       "0     2022    2                   11  BOGOTA D.C.             11001   \n",
       "1     2022    2                   11  BOGOTA D.C.             11001   \n",
       "\n",
       "      Municipio                      Nombre_comercial Bandera  \\\n",
       "0  BOGOTA  D.C.  SUPER ESTACION DE SERVICIO TEXACO 10  TEXACO   \n",
       "1  BOGOTA  D.C.  SUPER ESTACION DE SERVICIO TEXACO 10  TEXACO   \n",
       "\n",
       "                       Direccion                      Producto  Precio Estado  \\\n",
       "0  AVENIDA CARRERA 7 No. 123A-48  GASOLINA CORRIENTE OXIGENADA    9860      A   \n",
       "1  AVENIDA CARRERA 7 No. 123A-48               BIODIESEL EXTRA    9780      A   \n",
       "\n",
       "                            Dir2  \\\n",
       "0  AVENIDA CARRERA 7 No. 123A-48   \n",
       "1  AVENIDA CARRERA 7 No. 123A-48   \n",
       "\n",
       "                                        Full_Address                Coords  \n",
       "0  AVENIDA CARRERA 7 No. 123A-48, Bogota  d.c., C...  (4.69921, -74.02878)  \n",
       "1  AVENIDA CARRERA 7 No. 123A-48, Bogota  d.c., C...  (4.69921, -74.02878)  "
      ]
     },
     "execution_count": 35,
     "metadata": {},
     "output_type": "execute_result"
    }
   ],
   "source": [
    "df_map.head(2)"
   ]
  },
  {
   "cell_type": "code",
   "execution_count": 36,
   "metadata": {},
   "outputs": [],
   "source": [
    "df_map = df_map.drop_duplicates(subset=['Nombre_comercial','Bandera','Producto'])"
   ]
  },
  {
   "cell_type": "code",
   "execution_count": 37,
   "metadata": {},
   "outputs": [
    {
     "data": {
      "text/plain": [
       "940"
      ]
     },
     "execution_count": 37,
     "metadata": {},
     "output_type": "execute_result"
    }
   ],
   "source": [
    "len(df_map)"
   ]
  },
  {
   "cell_type": "code",
   "execution_count": 38,
   "metadata": {},
   "outputs": [
    {
     "data": {
      "text/plain": [
       "('NA', 'NA')            20\n",
       "(4.61872, -74.07497)     6\n",
       "(4.68947, -74.06588)     6\n",
       "(4.60302, -74.14303)     5\n",
       "(4.4976, -74.10764)      5\n",
       "                        ..\n",
       "(4.62139, -74.18436)     1\n",
       "(4.75523, -74.06481)     1\n",
       "(4.59662, -74.17924)     1\n",
       "(4.70551, -74.10576)     1\n",
       "(4.49828, -74.10745)     1\n",
       "Name: Coords, Length: 366, dtype: int64"
      ]
     },
     "execution_count": 38,
     "metadata": {},
     "output_type": "execute_result"
    }
   ],
   "source": [
    "df_map['Coords'].value_counts()"
   ]
  },
  {
   "cell_type": "code",
   "execution_count": 39,
   "metadata": {},
   "outputs": [
    {
     "data": {
      "text/plain": [
       "array(['Avenida Carrera 30 # 2 - 38', 'CRA 17 # 50-42',\n",
       "       'CALLE 80 # 24-30', 'Carrera 73 # 36A - 55 Sur',\n",
       "       'Calle 13 # 38 - 25', 'Calle 19 # 33 - 68', 'Carrera 7 # 84 - 91',\n",
       "       'CR 63 NO. 57 G - 74 Sur'], dtype=object)"
      ]
     },
     "execution_count": 39,
     "metadata": {},
     "output_type": "execute_result"
    }
   ],
   "source": [
    "df_map[df_map['Coords']==\"('NA', 'NA')\"]['Direccion'].unique()"
   ]
  },
  {
   "cell_type": "code",
   "execution_count": 40,
   "metadata": {},
   "outputs": [
    {
     "name": "stdout",
     "output_type": "stream",
     "text": [
      "<class 'pandas.core.frame.DataFrame'>\n",
      "Int64Index: 940 entries, 0 to 1365\n",
      "Data columns (total 15 columns):\n",
      " #   Column               Non-Null Count  Dtype \n",
      "---  ------               --------------  ----- \n",
      " 0   Periodo              940 non-null    int64 \n",
      " 1   Mes                  940 non-null    int64 \n",
      " 2   Codigo_departamento  940 non-null    int64 \n",
      " 3   Departamento         940 non-null    object\n",
      " 4   Codigo_municipio     940 non-null    int64 \n",
      " 5   Municipio            940 non-null    object\n",
      " 6   Nombre_comercial     940 non-null    object\n",
      " 7   Bandera              940 non-null    object\n",
      " 8   Direccion            940 non-null    object\n",
      " 9   Producto             940 non-null    object\n",
      " 10  Precio               940 non-null    int64 \n",
      " 11  Estado               940 non-null    object\n",
      " 12  Dir2                 940 non-null    object\n",
      " 13  Full_Address         940 non-null    object\n",
      " 14  Coords               940 non-null    object\n",
      "dtypes: int64(5), object(10)\n",
      "memory usage: 117.5+ KB\n"
     ]
    }
   ],
   "source": [
    "df_map.info()"
   ]
  },
  {
   "cell_type": "code",
   "execution_count": 41,
   "metadata": {},
   "outputs": [
    {
     "data": {
      "text/plain": [
       "'(4.69921, -74.02878)'"
      ]
     },
     "execution_count": 41,
     "metadata": {},
     "output_type": "execute_result"
    }
   ],
   "source": [
    "df_map['Coords'][0]"
   ]
  },
  {
   "cell_type": "code",
   "execution_count": 42,
   "metadata": {},
   "outputs": [
    {
     "data": {
      "text/plain": [
       "4.69921"
      ]
     },
     "execution_count": 42,
     "metadata": {},
     "output_type": "execute_result"
    }
   ],
   "source": [
    "float(df_map['Coords'][0].replace('(','').replace(')','').split(',')[0]) # Lat"
   ]
  },
  {
   "cell_type": "code",
   "execution_count": 43,
   "metadata": {},
   "outputs": [
    {
     "data": {
      "text/plain": [
       "-74.02878"
      ]
     },
     "execution_count": 43,
     "metadata": {},
     "output_type": "execute_result"
    }
   ],
   "source": [
    "float(df_map['Coords'][0].replace('(','').replace(')','').split(',')[1].strip()) # Longitud"
   ]
  },
  {
   "cell_type": "code",
   "execution_count": 44,
   "metadata": {},
   "outputs": [],
   "source": [
    "df_map['LAT'] = df_map['Coords'].apply(lambda x : float(x.replace('(','').replace(')','').split(',')[0]) if x !=  \"('NA', 'NA')\"  else 'Empty')\n",
    "df_map['LNG'] = df_map['Coords'].apply(lambda x : float(x.replace('(','').replace(')','').split(',')[1]) if x !=  \"('NA', 'NA')\"  else 'Empty')"
   ]
  },
  {
   "cell_type": "code",
   "execution_count": 45,
   "metadata": {},
   "outputs": [
    {
     "data": {
      "text/plain": [
       "Empty      20\n",
       "4.61872     6\n",
       "4.68947     6\n",
       "4.5894      6\n",
       "4.4976      5\n",
       "           ..\n",
       "4.59945     1\n",
       "4.59662     1\n",
       "4.70551     1\n",
       "4.68173     1\n",
       "4.49828     1\n",
       "Name: LAT, Length: 361, dtype: int64"
      ]
     },
     "execution_count": 45,
     "metadata": {},
     "output_type": "execute_result"
    }
   ],
   "source": [
    "df_map['LAT'].value_counts()"
   ]
  },
  {
   "cell_type": "code",
   "execution_count": 46,
   "metadata": {},
   "outputs": [
    {
     "data": {
      "text/plain": [
       "Empty        20\n",
       "-74.07497     6\n",
       "-74.06588     6\n",
       "-74.08027     6\n",
       "-74.10764     5\n",
       "             ..\n",
       "-74.17924     1\n",
       "-74.10745     1\n",
       "-74.08485     1\n",
       "-74.09248     1\n",
       "-74.18436     1\n",
       "Name: LNG, Length: 363, dtype: int64"
      ]
     },
     "execution_count": 46,
     "metadata": {},
     "output_type": "execute_result"
    }
   ],
   "source": [
    "df_map['LNG'].value_counts()"
   ]
  },
  {
   "attachments": {},
   "cell_type": "markdown",
   "metadata": {},
   "source": [
    "# Funciones a usar "
   ]
  },
  {
   "cell_type": "code",
   "execution_count": 47,
   "metadata": {},
   "outputs": [],
   "source": [
    "def GetLatLon2(Address,YOUR_API_KEY): \n",
    "\n",
    "    url2_geocode  = f'https://geocode.search.hereapi.com/v1/geocode?q={Address}&apiKey='+YOUR_API_KEY\n",
    "    \n",
    "    try:\n",
    "        response = requests.get(url2_geocode).json()\n",
    "        CleanAddress = response['items'][0]['title'].upper()\n",
    "        LAT = response['items'][0]['position']['lat']\n",
    "        LON = response['items'][0]['position']['lng']\n",
    "        results = [CleanAddress,round(LAT,7),round(LON,7)]\n",
    "    except:\n",
    "        results = ['NotFound','NA','NA']\n",
    "    return results\n",
    "\n",
    "def GetLatLon2_google(Address,YOUR_API_KEY): \n",
    "\n",
    "    api_url = f'https://maps.googleapis.com/maps/api/geocode/json?address={Address}&key={YOUR_API_KEY}'\n",
    "    try:\n",
    "        j = requests.get(api_url).json()\n",
    "        CleanAddress = str(j['results'][0]['formatted_address']).upper()\n",
    "        LAT = j['results'][0]['geometry']['location']['lat']\n",
    "        LON = j['results'][0]['geometry']['location']['lng']\n",
    "        results = [CleanAddress,round(LAT,7),round(LON,7)]\n",
    "    except:\n",
    "        results = ['NotFound','NA','NA']\n",
    "    return results,j \n",
    "\n",
    "\n",
    "def cal_dist(geo_source,point2,unit):\n",
    "    \n",
    "    \n",
    "    if unit == 'Km':\n",
    "        distance = haversine(geo_source, point2,Unit.KILOMETERS)\n",
    "    elif unit == 'm':\n",
    "        distance = haversine(geo_source, point2,Unit.METERS)\n",
    "    elif unit == 'miles':\n",
    "        distance = haversine(geo_source, point2,Unit.MILES)\n",
    "    \n",
    "    return round(distance,2)\n",
    "\n",
    "\n",
    "def distance_estac(geo_source,df,radio,unit):\n",
    "    \n",
    "    \n",
    "    distancia = []\n",
    "    source = []\n",
    "\n",
    "\n",
    "    for i in tqdm(range(len(df)),colour = 'green'):\n",
    "        distancia.append(cal_dist(geo_source,df['POINT'][i],unit))\n",
    "        source.append(geo_source)\n",
    "\n",
    "    new_df = df.copy()\n",
    "    new_df['SOURCE'] = source\n",
    "    new_df['DISTANCE'] = distancia\n",
    "    new_df = new_df[new_df['DISTANCE']<=radio]\n",
    "    new_df = new_df.reset_index()\n",
    "    new_df = new_df.drop(columns ='index')\n",
    "    return new_df.sort_values(by='DISTANCE',ascending=True)\n",
    "\n",
    "def transform_df_map(df):\n",
    "    \n",
    "\n",
    "    coordenadas = []\n",
    "\n",
    "    for i in range(len(df)):\n",
    "        \n",
    "        try :\n",
    "            \n",
    "            coord = float(df['LAT'][i]),float(df['LNG'][i])\n",
    "            coordenadas.append(coord)\n",
    "\n",
    "        except :\n",
    "            \n",
    "            coordenadas.append('EMPTY')\n",
    "            \n",
    "    df['POINT'] = coordenadas\n",
    "    df = df[df['POINT']!='EMPTY']\n",
    "    df = df.reset_index()\n",
    "    df = df.drop(columns = 'index')\n",
    "    new_df = df.copy()\n",
    "    \n",
    "    return new_df"
   ]
  },
  {
   "attachments": {},
   "cell_type": "markdown",
   "metadata": {},
   "source": [
    "# Paso a Paso de la App\n",
    "\n",
    "1. Filtrar la ciudad\n",
    "2. Ingresar la central location\n",
    "3. Configurar el radio y la unidad de medida\n",
    "4. Calcular la distancia\n"
   ]
  },
  {
   "attachments": {},
   "cell_type": "markdown",
   "metadata": {},
   "source": [
    "# Filtrar ciudad"
   ]
  },
  {
   "cell_type": "code",
   "execution_count": 48,
   "metadata": {},
   "outputs": [
    {
     "data": {
      "text/plain": [
       "['BOGOTA  D.C.']"
      ]
     },
     "execution_count": 48,
     "metadata": {},
     "output_type": "execute_result"
    }
   ],
   "source": [
    "cities = list(df_map['Municipio'].unique())\n",
    "cities"
   ]
  },
  {
   "cell_type": "code",
   "execution_count": 85,
   "metadata": {},
   "outputs": [],
   "source": [
    "df_city = df_map[df_map['Municipio']==cities[0]]\n",
    "df_city.reset_index(inplace=True)\n",
    "df_city.drop(columns='index',inplace=True)\n",
    "df_city.to_csv('DF_STATIONS.CSV',index = False)"
   ]
  },
  {
   "cell_type": "code",
   "execution_count": 50,
   "metadata": {},
   "outputs": [],
   "source": [
    "central_location = 'CC Multiplaza, Bogota'\n",
    "central_location = central_location.replace('#','No')\n",
    "R = GetLatLon2(central_location, YOUR_API_KEY)"
   ]
  },
  {
   "cell_type": "code",
   "execution_count": 51,
   "metadata": {},
   "outputs": [
    {
     "data": {
      "text/plain": [
       "(4.65226, -74.12695)"
      ]
     },
     "execution_count": 51,
     "metadata": {},
     "output_type": "execute_result"
    }
   ],
   "source": [
    "geo_source = R[1], R[2]\n",
    "geo_source"
   ]
  },
  {
   "cell_type": "code",
   "execution_count": 52,
   "metadata": {},
   "outputs": [],
   "source": [
    "radio = 1\n",
    "unit = 'Km'"
   ]
  },
  {
   "cell_type": "code",
   "execution_count": 54,
   "metadata": {},
   "outputs": [
    {
     "data": {
      "text/html": [
       "<div>\n",
       "<style scoped>\n",
       "    .dataframe tbody tr th:only-of-type {\n",
       "        vertical-align: middle;\n",
       "    }\n",
       "\n",
       "    .dataframe tbody tr th {\n",
       "        vertical-align: top;\n",
       "    }\n",
       "\n",
       "    .dataframe thead th {\n",
       "        text-align: right;\n",
       "    }\n",
       "</style>\n",
       "<table border=\"1\" class=\"dataframe\">\n",
       "  <thead>\n",
       "    <tr style=\"text-align: right;\">\n",
       "      <th></th>\n",
       "      <th>Periodo</th>\n",
       "      <th>Mes</th>\n",
       "      <th>Codigo_departamento</th>\n",
       "      <th>Departamento</th>\n",
       "      <th>Codigo_municipio</th>\n",
       "      <th>Municipio</th>\n",
       "      <th>Nombre_comercial</th>\n",
       "      <th>Bandera</th>\n",
       "      <th>Direccion</th>\n",
       "      <th>Producto</th>\n",
       "      <th>Precio</th>\n",
       "      <th>Estado</th>\n",
       "      <th>Dir2</th>\n",
       "      <th>Full_Address</th>\n",
       "      <th>Coords</th>\n",
       "      <th>LAT</th>\n",
       "      <th>LNG</th>\n",
       "      <th>POINT</th>\n",
       "    </tr>\n",
       "  </thead>\n",
       "  <tbody>\n",
       "    <tr>\n",
       "      <th>0</th>\n",
       "      <td>2022</td>\n",
       "      <td>2</td>\n",
       "      <td>11</td>\n",
       "      <td>BOGOTA D.C.</td>\n",
       "      <td>11001</td>\n",
       "      <td>BOGOTA  D.C.</td>\n",
       "      <td>SUPER ESTACION DE SERVICIO TEXACO 10</td>\n",
       "      <td>TEXACO</td>\n",
       "      <td>AVENIDA CARRERA 7 No. 123A-48</td>\n",
       "      <td>GASOLINA CORRIENTE OXIGENADA</td>\n",
       "      <td>9860</td>\n",
       "      <td>A</td>\n",
       "      <td>AVENIDA CARRERA 7 No. 123A-48</td>\n",
       "      <td>AVENIDA CARRERA 7 No. 123A-48, Bogota  d.c., C...</td>\n",
       "      <td>(4.69921, -74.02878)</td>\n",
       "      <td>4.69921</td>\n",
       "      <td>-74.02878</td>\n",
       "      <td>(4.69921, -74.02878)</td>\n",
       "    </tr>\n",
       "    <tr>\n",
       "      <th>1</th>\n",
       "      <td>2022</td>\n",
       "      <td>2</td>\n",
       "      <td>11</td>\n",
       "      <td>BOGOTA D.C.</td>\n",
       "      <td>11001</td>\n",
       "      <td>BOGOTA  D.C.</td>\n",
       "      <td>SUPER ESTACION DE SERVICIO TEXACO 10</td>\n",
       "      <td>TEXACO</td>\n",
       "      <td>AVENIDA CARRERA 7 No. 123A-48</td>\n",
       "      <td>BIODIESEL EXTRA</td>\n",
       "      <td>9780</td>\n",
       "      <td>A</td>\n",
       "      <td>AVENIDA CARRERA 7 No. 123A-48</td>\n",
       "      <td>AVENIDA CARRERA 7 No. 123A-48, Bogota  d.c., C...</td>\n",
       "      <td>(4.69921, -74.02878)</td>\n",
       "      <td>4.69921</td>\n",
       "      <td>-74.02878</td>\n",
       "      <td>(4.69921, -74.02878)</td>\n",
       "    </tr>\n",
       "  </tbody>\n",
       "</table>\n",
       "</div>"
      ],
      "text/plain": [
       "   Periodo  Mes  Codigo_departamento Departamento  Codigo_municipio  \\\n",
       "0     2022    2                   11  BOGOTA D.C.             11001   \n",
       "1     2022    2                   11  BOGOTA D.C.             11001   \n",
       "\n",
       "      Municipio                      Nombre_comercial Bandera  \\\n",
       "0  BOGOTA  D.C.  SUPER ESTACION DE SERVICIO TEXACO 10  TEXACO   \n",
       "1  BOGOTA  D.C.  SUPER ESTACION DE SERVICIO TEXACO 10  TEXACO   \n",
       "\n",
       "                       Direccion                      Producto  Precio Estado  \\\n",
       "0  AVENIDA CARRERA 7 No. 123A-48  GASOLINA CORRIENTE OXIGENADA    9860      A   \n",
       "1  AVENIDA CARRERA 7 No. 123A-48               BIODIESEL EXTRA    9780      A   \n",
       "\n",
       "                            Dir2  \\\n",
       "0  AVENIDA CARRERA 7 No. 123A-48   \n",
       "1  AVENIDA CARRERA 7 No. 123A-48   \n",
       "\n",
       "                                        Full_Address                Coords  \\\n",
       "0  AVENIDA CARRERA 7 No. 123A-48, Bogota  d.c., C...  (4.69921, -74.02878)   \n",
       "1  AVENIDA CARRERA 7 No. 123A-48, Bogota  d.c., C...  (4.69921, -74.02878)   \n",
       "\n",
       "       LAT       LNG                 POINT  \n",
       "0  4.69921 -74.02878  (4.69921, -74.02878)  \n",
       "1  4.69921 -74.02878  (4.69921, -74.02878)  "
      ]
     },
     "execution_count": 54,
     "metadata": {},
     "output_type": "execute_result"
    }
   ],
   "source": [
    "df_city = transform_df_map(df_city)\n",
    "df_city.head(2)"
   ]
  },
  {
   "cell_type": "code",
   "execution_count": 57,
   "metadata": {},
   "outputs": [
    {
     "name": "stderr",
     "output_type": "stream",
     "text": [
      "100%|\u001b[32m██████████\u001b[0m| 920/920 [00:00<00:00, 129789.10it/s]\n"
     ]
    }
   ],
   "source": [
    "results = distance_estac(geo_source,df_city,radio,unit)\n",
    "results.reset_index(inplace =  True)\n",
    "results.drop(columns= 'index' , inplace = True)"
   ]
  },
  {
   "cell_type": "code",
   "execution_count": 58,
   "metadata": {},
   "outputs": [
    {
     "data": {
      "text/plain": [
       "array(['EDS ESSO INDUSTRIAL BOYACA',\n",
       "       'ESTACION DE SERVICIO MILENIUM GAS CALLE 13',\n",
       "       'ESTACION DE SERVICIO FERROCARRIL',\n",
       "       'ESTACION DE SERVICIO TERPEL VILLA ALZACIA',\n",
       "       'ESTACION DE SERVICIO VILLA ALSACIA'], dtype=object)"
      ]
     },
     "execution_count": 58,
     "metadata": {},
     "output_type": "execute_result"
    }
   ],
   "source": [
    "results['Nombre_comercial'].unique()"
   ]
  },
  {
   "cell_type": "code",
   "execution_count": 59,
   "metadata": {},
   "outputs": [
    {
     "data": {
      "text/plain": [
       "array(['GASOLINA CORRIENTE OXIGENADA', 'BIODIESEL EXTRA',\n",
       "       'GASOLINA EXTRA OXIGENADA'], dtype=object)"
      ]
     },
     "execution_count": 59,
     "metadata": {},
     "output_type": "execute_result"
    }
   ],
   "source": [
    "results['Producto'].unique()"
   ]
  },
  {
   "cell_type": "code",
   "execution_count": 60,
   "metadata": {},
   "outputs": [
    {
     "data": {
      "text/plain": [
       "pandas.core.frame.DataFrame"
      ]
     },
     "execution_count": 60,
     "metadata": {},
     "output_type": "execute_result"
    }
   ],
   "source": [
    "type(results)"
   ]
  },
  {
   "cell_type": "code",
   "execution_count": 62,
   "metadata": {},
   "outputs": [],
   "source": [
    "gdf_results = GeoDataFrame(results,\n",
    "                          geometry =  points_from_xy(results.LNG,results.LAT))"
   ]
  },
  {
   "cell_type": "code",
   "execution_count": 64,
   "metadata": {},
   "outputs": [
    {
     "data": {
      "text/html": [
       "<div>\n",
       "<style scoped>\n",
       "    .dataframe tbody tr th:only-of-type {\n",
       "        vertical-align: middle;\n",
       "    }\n",
       "\n",
       "    .dataframe tbody tr th {\n",
       "        vertical-align: top;\n",
       "    }\n",
       "\n",
       "    .dataframe thead th {\n",
       "        text-align: right;\n",
       "    }\n",
       "</style>\n",
       "<table border=\"1\" class=\"dataframe\">\n",
       "  <thead>\n",
       "    <tr style=\"text-align: right;\">\n",
       "      <th></th>\n",
       "      <th>Periodo</th>\n",
       "      <th>Mes</th>\n",
       "      <th>Codigo_departamento</th>\n",
       "      <th>Departamento</th>\n",
       "      <th>Codigo_municipio</th>\n",
       "      <th>Municipio</th>\n",
       "      <th>Nombre_comercial</th>\n",
       "      <th>Bandera</th>\n",
       "      <th>Direccion</th>\n",
       "      <th>Producto</th>\n",
       "      <th>...</th>\n",
       "      <th>Estado</th>\n",
       "      <th>Dir2</th>\n",
       "      <th>Full_Address</th>\n",
       "      <th>Coords</th>\n",
       "      <th>LAT</th>\n",
       "      <th>LNG</th>\n",
       "      <th>POINT</th>\n",
       "      <th>SOURCE</th>\n",
       "      <th>DISTANCE</th>\n",
       "      <th>geometry</th>\n",
       "    </tr>\n",
       "  </thead>\n",
       "  <tbody>\n",
       "    <tr>\n",
       "      <th>0</th>\n",
       "      <td>2022</td>\n",
       "      <td>2</td>\n",
       "      <td>11</td>\n",
       "      <td>BOGOTA D.C.</td>\n",
       "      <td>11001</td>\n",
       "      <td>BOGOTA  D.C.</td>\n",
       "      <td>EDS ESSO INDUSTRIAL BOYACA</td>\n",
       "      <td>MOBIL</td>\n",
       "      <td>CARRERA 71 No. 19-05</td>\n",
       "      <td>GASOLINA CORRIENTE OXIGENADA</td>\n",
       "      <td>...</td>\n",
       "      <td>A</td>\n",
       "      <td>CARRERA 71 No. 19-05</td>\n",
       "      <td>CARRERA 71 No. 19-05, Bogota  d.c., Colombia</td>\n",
       "      <td>(4.65127, -74.1234)</td>\n",
       "      <td>4.65127</td>\n",
       "      <td>-74.1234</td>\n",
       "      <td>(4.65127, -74.1234)</td>\n",
       "      <td>(4.65226, -74.12695)</td>\n",
       "      <td>0.41</td>\n",
       "      <td>POINT (-74.12340 4.65127)</td>\n",
       "    </tr>\n",
       "    <tr>\n",
       "      <th>1</th>\n",
       "      <td>2022</td>\n",
       "      <td>2</td>\n",
       "      <td>11</td>\n",
       "      <td>BOGOTA D.C.</td>\n",
       "      <td>11001</td>\n",
       "      <td>BOGOTA  D.C.</td>\n",
       "      <td>EDS ESSO INDUSTRIAL BOYACA</td>\n",
       "      <td>MOBIL</td>\n",
       "      <td>CARRERA 71 No. 19-05</td>\n",
       "      <td>BIODIESEL EXTRA</td>\n",
       "      <td>...</td>\n",
       "      <td>A</td>\n",
       "      <td>CARRERA 71 No. 19-05</td>\n",
       "      <td>CARRERA 71 No. 19-05, Bogota  d.c., Colombia</td>\n",
       "      <td>(4.65127, -74.1234)</td>\n",
       "      <td>4.65127</td>\n",
       "      <td>-74.1234</td>\n",
       "      <td>(4.65127, -74.1234)</td>\n",
       "      <td>(4.65226, -74.12695)</td>\n",
       "      <td>0.41</td>\n",
       "      <td>POINT (-74.12340 4.65127)</td>\n",
       "    </tr>\n",
       "  </tbody>\n",
       "</table>\n",
       "<p>2 rows × 21 columns</p>\n",
       "</div>"
      ],
      "text/plain": [
       "   Periodo  Mes  Codigo_departamento Departamento  Codigo_municipio  \\\n",
       "0     2022    2                   11  BOGOTA D.C.             11001   \n",
       "1     2022    2                   11  BOGOTA D.C.             11001   \n",
       "\n",
       "      Municipio            Nombre_comercial Bandera             Direccion  \\\n",
       "0  BOGOTA  D.C.  EDS ESSO INDUSTRIAL BOYACA   MOBIL  CARRERA 71 No. 19-05   \n",
       "1  BOGOTA  D.C.  EDS ESSO INDUSTRIAL BOYACA   MOBIL  CARRERA 71 No. 19-05   \n",
       "\n",
       "                       Producto  ...  Estado                  Dir2  \\\n",
       "0  GASOLINA CORRIENTE OXIGENADA  ...       A  CARRERA 71 No. 19-05   \n",
       "1               BIODIESEL EXTRA  ...       A  CARRERA 71 No. 19-05   \n",
       "\n",
       "                                   Full_Address               Coords      LAT  \\\n",
       "0  CARRERA 71 No. 19-05, Bogota  d.c., Colombia  (4.65127, -74.1234)  4.65127   \n",
       "1  CARRERA 71 No. 19-05, Bogota  d.c., Colombia  (4.65127, -74.1234)  4.65127   \n",
       "\n",
       "       LNG                POINT                SOURCE DISTANCE  \\\n",
       "0 -74.1234  (4.65127, -74.1234)  (4.65226, -74.12695)     0.41   \n",
       "1 -74.1234  (4.65127, -74.1234)  (4.65226, -74.12695)     0.41   \n",
       "\n",
       "                    geometry  \n",
       "0  POINT (-74.12340 4.65127)  \n",
       "1  POINT (-74.12340 4.65127)  \n",
       "\n",
       "[2 rows x 21 columns]"
      ]
     },
     "execution_count": 64,
     "metadata": {},
     "output_type": "execute_result"
    }
   ],
   "source": [
    "gdf_results.head(2)"
   ]
  },
  {
   "cell_type": "code",
   "execution_count": 65,
   "metadata": {},
   "outputs": [
    {
     "data": {
      "image/svg+xml": "<svg xmlns=\"http://www.w3.org/2000/svg\" xmlns:xlink=\"http://www.w3.org/1999/xlink\" width=\"100.0\" height=\"100.0\" viewBox=\"-75.1234 3.6512700000000002 2.0 2.0\" preserveAspectRatio=\"xMinYMin meet\"><g transform=\"matrix(1,0,0,-1,0,9.30254)\"><circle cx=\"-74.1234\" cy=\"4.65127\" r=\"0.06\" stroke=\"#555555\" stroke-width=\"0.02\" fill=\"#66cc99\" opacity=\"0.6\" /></g></svg>",
      "text/plain": [
       "<shapely.geometry.point.Point at 0xffff5f8ddcf0>"
      ]
     },
     "execution_count": 65,
     "metadata": {},
     "output_type": "execute_result"
    }
   ],
   "source": [
    "gdf_results['geometry'][0]"
   ]
  },
  {
   "cell_type": "code",
   "execution_count": 66,
   "metadata": {},
   "outputs": [
    {
     "data": {
      "text/plain": [
       "['GASOLINA CORRIENTE OXIGENADA', 'BIODIESEL EXTRA', 'GASOLINA EXTRA OXIGENADA']"
      ]
     },
     "execution_count": 66,
     "metadata": {},
     "output_type": "execute_result"
    }
   ],
   "source": [
    "oil = list(gdf_results['Producto'].unique())\n",
    "oil"
   ]
  },
  {
   "cell_type": "code",
   "execution_count": 79,
   "metadata": {},
   "outputs": [
    {
     "name": "stderr",
     "output_type": "stream",
     "text": [
      "/home/vscode/miniforge3/lib/python3.10/site-packages/pandas/core/frame.py:4906: SettingWithCopyWarning: \n",
      "A value is trying to be set on a copy of a slice from a DataFrame\n",
      "\n",
      "See the caveats in the documentation: https://pandas.pydata.org/pandas-docs/stable/user_guide/indexing.html#returning-a-view-versus-a-copy\n",
      "  return super().drop(\n"
     ]
    }
   ],
   "source": [
    "gdf_results_2 = gdf_results[gdf_results['Producto']==oil[2]]\n",
    "gdf_results_2.reset_index(inplace =  True)\n",
    "gdf_results_2.drop(columns= 'index' , inplace = True)"
   ]
  },
  {
   "cell_type": "code",
   "execution_count": 80,
   "metadata": {},
   "outputs": [
    {
     "data": {
      "text/plain": [
       "Index(['Periodo', 'Mes', 'Codigo_departamento', 'Departamento',\n",
       "       'Codigo_municipio', 'Municipio', 'Nombre_comercial', 'Bandera',\n",
       "       'Direccion', 'Producto', 'Precio', 'Estado', 'Dir2', 'Full_Address',\n",
       "       'Coords', 'LAT', 'LNG', 'POINT', 'SOURCE', 'DISTANCE', 'geometry'],\n",
       "      dtype='object')"
      ]
     },
     "execution_count": 80,
     "metadata": {},
     "output_type": "execute_result"
    }
   ],
   "source": [
    "gdf_results_2.columns"
   ]
  },
  {
   "cell_type": "code",
   "execution_count": 81,
   "metadata": {},
   "outputs": [
    {
     "data": {
      "text/plain": [
       "16400"
      ]
     },
     "execution_count": 81,
     "metadata": {},
     "output_type": "execute_result"
    }
   ],
   "source": [
    "gdf_results_2['Precio'].min()"
   ]
  },
  {
   "cell_type": "code",
   "execution_count": 82,
   "metadata": {},
   "outputs": [
    {
     "data": {
      "text/plain": [
       "17130"
      ]
     },
     "execution_count": 82,
     "metadata": {},
     "output_type": "execute_result"
    }
   ],
   "source": [
    "gdf_results_2['Precio'].max()"
   ]
  },
  {
   "cell_type": "code",
   "execution_count": 77,
   "metadata": {},
   "outputs": [],
   "source": [
    "def marker_rest(df,mapa,unit,oil,icono):\n",
    "    \n",
    "    df = df[df['Producto']==oil]\n",
    "    df = df.reset_index()\n",
    "    df = df.drop(columns = 'index')\n",
    "    \n",
    "    for i in range(len(df)):\n",
    "        \n",
    "        if df['Precio'][i]==df['Precio'].min():\n",
    "        \n",
    "            html =  f\"\"\"<b>MARCA:</b> {df.Bandera[i]} <br>\n",
    "                    <b>NAME:</b> {df.Nombre_comercial[i]} <br>\n",
    "                    <b>PRODUCTO:</b> {df.Producto[i]} <br>\n",
    "                    <b>PRECIO:</b> {df.Precio[i]} <br>\n",
    "                    <b>DISTANCE:</b> {round(df.DISTANCE[i],2)}<br>\n",
    "                    <b>DIRECCION:</b> {df.Direccion[i]}<br>\n",
    "                    <b>UNIT:</b> {unit}<br>\"\"\"\n",
    "            iframe = folium.IFrame(html,figsize=(6, 3))\n",
    "            popup = folium.Popup(iframe)\n",
    "            \n",
    "\n",
    "\n",
    "\n",
    "            folium.Marker(location=[float(df['LAT'][i]),float(df['LNG'][i])],\n",
    "                               icon=folium.Icon(color='darkgreen', icon_color='white',\n",
    "                               icon=icono, prefix='glyphicon'),\n",
    "                               popup = popup).add_to(mapa)\n",
    "        \n",
    "        elif df['Precio'][i]==df['Precio'].max():\n",
    "        \n",
    "            html =  f\"\"\"<b>MARCA:</b> {df.Bandera[i]} <br>\n",
    "                    <b>NAME:</b> {df.Nombre_comercial[i]} <br>\n",
    "                    <b>PRODUCTO:</b> {df.Producto[i]} <br>\n",
    "                    <b>PRECIO:</b> {df.Precio[i]} <br>\n",
    "                    <b>DISTANCE:</b> {round(df.DISTANCE[i],2)}<br>\n",
    "                    <b>DIRECCION:</b> {df.Direccion[i]}<br>\n",
    "                    <b>UNIT:</b> {unit}<br>\"\"\"\n",
    "            iframe = folium.IFrame(html,figsize=(6, 3))\n",
    "            popup = folium.Popup(iframe)\n",
    "\n",
    "\n",
    "\n",
    "            folium.Marker(location=[float(df['LAT'][i]),float(df['LNG'][i])],\n",
    "                               icon=folium.Icon(color='darkred', icon_color='white',\n",
    "                               icon=icono, prefix='glyphicon'),\n",
    "                               popup =popup).add_to(mapa)\n",
    "        else :\n",
    "            html =  f\"\"\"<b>MARCA:</b> {df.Bandera[i]} <br>\n",
    "                    <b>NAME:</b> {df.Nombre_comercial[i]} <br>\n",
    "                    <b>PRODUCTO:</b> {df.Producto[i]} <br>\n",
    "                    <b>PRECIO:</b> {df.Precio[i]} <br>\n",
    "                    <b>DISTANCE:</b> {round(df.DISTANCE[i],2)}<br>\n",
    "                    <b>DIRECCION:</b> {df.Direccion[i]}<br>\n",
    "                    <b>UNIT:</b> {unit}<br>\"\"\"\n",
    "            iframe = folium.IFrame(html,figsize=(6, 3))\n",
    "            popup = folium.Popup(iframe)\n",
    "\n",
    "\n",
    "\n",
    "            folium.Marker(location=[float(df['LAT'][i]),float(df['LNG'][i])],\n",
    "                               icon=folium.Icon(color='orange', icon_color='white',\n",
    "                               icon=icono, prefix='glyphicon'),\n",
    "                               popup =popup).add_to(mapa)\n",
    "                           \n",
    "    return"
   ]
  },
  {
   "attachments": {},
   "cell_type": "markdown",
   "metadata": {},
   "source": [
    "# Show Map"
   ]
  },
  {
   "cell_type": "code",
   "execution_count": 84,
   "metadata": {},
   "outputs": [
    {
     "data": {
      "text/html": [
       "<div style=\"width:100%;\"><div style=\"position:relative;width:100%;height:0;padding-bottom:60%;\"><span style=\"color:#565656\">Make this Notebook Trusted to load map: File -> Trust Notebook</span><iframe srcdoc=\"&lt;!DOCTYPE html&gt;\n",
       "&lt;html&gt;\n",
       "&lt;head&gt;\n",
       "    \n",
       "    &lt;meta http-equiv=&quot;content-type&quot; content=&quot;text/html; charset=UTF-8&quot; /&gt;\n",
       "    \n",
       "        &lt;script&gt;\n",
       "            L_NO_TOUCH = false;\n",
       "            L_DISABLE_3D = false;\n",
       "        &lt;/script&gt;\n",
       "    \n",
       "    &lt;style&gt;html, body {width: 100%;height: 100%;margin: 0;padding: 0;}&lt;/style&gt;\n",
       "    &lt;style&gt;#map {position:absolute;top:0;bottom:0;right:0;left:0;}&lt;/style&gt;\n",
       "    &lt;script src=&quot;https://cdn.jsdelivr.net/npm/leaflet@1.9.3/dist/leaflet.js&quot;&gt;&lt;/script&gt;\n",
       "    &lt;script src=&quot;https://code.jquery.com/jquery-1.12.4.min.js&quot;&gt;&lt;/script&gt;\n",
       "    &lt;script src=&quot;https://cdn.jsdelivr.net/npm/bootstrap@5.2.2/dist/js/bootstrap.bundle.min.js&quot;&gt;&lt;/script&gt;\n",
       "    &lt;script src=&quot;https://cdnjs.cloudflare.com/ajax/libs/Leaflet.awesome-markers/2.0.2/leaflet.awesome-markers.js&quot;&gt;&lt;/script&gt;\n",
       "    &lt;link rel=&quot;stylesheet&quot; href=&quot;https://cdn.jsdelivr.net/npm/leaflet@1.9.3/dist/leaflet.css&quot;/&gt;\n",
       "    &lt;link rel=&quot;stylesheet&quot; href=&quot;https://cdn.jsdelivr.net/npm/bootstrap@5.2.2/dist/css/bootstrap.min.css&quot;/&gt;\n",
       "    &lt;link rel=&quot;stylesheet&quot; href=&quot;https://netdna.bootstrapcdn.com/bootstrap/3.0.0/css/bootstrap.min.css&quot;/&gt;\n",
       "    &lt;link rel=&quot;stylesheet&quot; href=&quot;https://cdn.jsdelivr.net/npm/@fortawesome/fontawesome-free@6.2.0/css/all.min.css&quot;/&gt;\n",
       "    &lt;link rel=&quot;stylesheet&quot; href=&quot;https://cdnjs.cloudflare.com/ajax/libs/Leaflet.awesome-markers/2.0.2/leaflet.awesome-markers.css&quot;/&gt;\n",
       "    &lt;link rel=&quot;stylesheet&quot; href=&quot;https://cdn.jsdelivr.net/gh/python-visualization/folium/folium/templates/leaflet.awesome.rotate.min.css&quot;/&gt;\n",
       "    \n",
       "            &lt;meta name=&quot;viewport&quot; content=&quot;width=device-width,\n",
       "                initial-scale=1.0, maximum-scale=1.0, user-scalable=no&quot; /&gt;\n",
       "            &lt;style&gt;\n",
       "                #map_1d06057c1669f0b388b5ac69d48d281a {\n",
       "                    position: relative;\n",
       "                    width: 100.0%;\n",
       "                    height: 100.0%;\n",
       "                    left: 0.0%;\n",
       "                    top: 0.0%;\n",
       "                }\n",
       "                .leaflet-container { font-size: 1rem; }\n",
       "            &lt;/style&gt;\n",
       "        \n",
       "&lt;/head&gt;\n",
       "&lt;body&gt;\n",
       "    \n",
       "    \n",
       "            &lt;div class=&quot;folium-map&quot; id=&quot;map_1d06057c1669f0b388b5ac69d48d281a&quot; &gt;&lt;/div&gt;\n",
       "        \n",
       "&lt;/body&gt;\n",
       "&lt;script&gt;\n",
       "    \n",
       "    \n",
       "            var map_1d06057c1669f0b388b5ac69d48d281a = L.map(\n",
       "                &quot;map_1d06057c1669f0b388b5ac69d48d281a&quot;,\n",
       "                {\n",
       "                    center: [4.65226, -74.12695],\n",
       "                    crs: L.CRS.EPSG3857,\n",
       "                    zoom: 15,\n",
       "                    zoomControl: true,\n",
       "                    preferCanvas: false,\n",
       "                }\n",
       "            );\n",
       "\n",
       "            \n",
       "\n",
       "        \n",
       "    \n",
       "            var tile_layer_0f60523183adfa2ca0143f851ef55976 = L.tileLayer(\n",
       "                &quot;https://{s}.tile.openstreetmap.org/{z}/{x}/{y}.png&quot;,\n",
       "                {&quot;attribution&quot;: &quot;Data by \\u0026copy; \\u003ca target=\\&quot;_blank\\&quot; href=\\&quot;http://openstreetmap.org\\&quot;\\u003eOpenStreetMap\\u003c/a\\u003e, under \\u003ca target=\\&quot;_blank\\&quot; href=\\&quot;http://www.openstreetmap.org/copyright\\&quot;\\u003eODbL\\u003c/a\\u003e.&quot;, &quot;detectRetina&quot;: false, &quot;maxNativeZoom&quot;: 18, &quot;maxZoom&quot;: 18, &quot;minZoom&quot;: 0, &quot;noWrap&quot;: false, &quot;opacity&quot;: 1, &quot;subdomains&quot;: &quot;abc&quot;, &quot;tms&quot;: false}\n",
       "            ).addTo(map_1d06057c1669f0b388b5ac69d48d281a);\n",
       "        \n",
       "    \n",
       "            var circle_867f1d59a2f4fb8d58fbc99f85f072cf = L.circle(\n",
       "                [4.65226, -74.12695],\n",
       "                {&quot;bubblingMouseEvents&quot;: true, &quot;color&quot;: &quot;green&quot;, &quot;dashArray&quot;: null, &quot;dashOffset&quot;: null, &quot;fill&quot;: &quot;green&quot;, &quot;fillColor&quot;: &quot;green&quot;, &quot;fillOpacity&quot;: 0.2, &quot;fillRule&quot;: &quot;evenodd&quot;, &quot;lineCap&quot;: &quot;round&quot;, &quot;lineJoin&quot;: &quot;round&quot;, &quot;opacity&quot;: 1.0, &quot;radius&quot;: 1000, &quot;stroke&quot;: true, &quot;weight&quot;: 3}\n",
       "            ).addTo(map_1d06057c1669f0b388b5ac69d48d281a);\n",
       "        \n",
       "    \n",
       "            var marker_0d92ac5c4937083c98b898e4dedcf094 = L.marker(\n",
       "                [4.65226, -74.12695],\n",
       "                {}\n",
       "            ).addTo(map_1d06057c1669f0b388b5ac69d48d281a);\n",
       "        \n",
       "    \n",
       "            var icon_cf49584c49fe69dfc76611acacbce49a = L.AwesomeMarkers.icon(\n",
       "                {&quot;extraClasses&quot;: &quot;fa-rotate-0&quot;, &quot;icon&quot;: &quot;home&quot;, &quot;iconColor&quot;: &quot;white&quot;, &quot;markerColor&quot;: &quot;black&quot;, &quot;prefix&quot;: &quot;glyphicon&quot;}\n",
       "            );\n",
       "            marker_0d92ac5c4937083c98b898e4dedcf094.setIcon(icon_cf49584c49fe69dfc76611acacbce49a);\n",
       "        \n",
       "    \n",
       "        var popup_5956427fbe3b9e1515d8209257311fb0 = L.popup({&quot;maxWidth&quot;: &quot;100%&quot;});\n",
       "\n",
       "        \n",
       "            \n",
       "                var html_665f54a4c816c5f0176ca2317085f0ea = $(`&lt;div id=&quot;html_665f54a4c816c5f0176ca2317085f0ea&quot; style=&quot;width: 100.0%; height: 100.0%;&quot;&gt;&lt;b&gt;Centroid&lt;/b&gt;&lt;/div&gt;`)[0];\n",
       "                popup_5956427fbe3b9e1515d8209257311fb0.setContent(html_665f54a4c816c5f0176ca2317085f0ea);\n",
       "            \n",
       "        \n",
       "\n",
       "        marker_0d92ac5c4937083c98b898e4dedcf094.bindPopup(popup_5956427fbe3b9e1515d8209257311fb0)\n",
       "        ;\n",
       "\n",
       "        \n",
       "    \n",
       "    \n",
       "            var marker_5f09bb2732a406a6c7212746c7cd267b = L.marker(\n",
       "                [4.65127, -74.1234],\n",
       "                {}\n",
       "            ).addTo(map_1d06057c1669f0b388b5ac69d48d281a);\n",
       "        \n",
       "    \n",
       "            var icon_4ed29e99920229c2f3995687a0ecdb86 = L.AwesomeMarkers.icon(\n",
       "                {&quot;extraClasses&quot;: &quot;fa-rotate-0&quot;, &quot;icon&quot;: &quot;usd&quot;, &quot;iconColor&quot;: &quot;white&quot;, &quot;markerColor&quot;: &quot;darkred&quot;, &quot;prefix&quot;: &quot;glyphicon&quot;}\n",
       "            );\n",
       "            marker_5f09bb2732a406a6c7212746c7cd267b.setIcon(icon_4ed29e99920229c2f3995687a0ecdb86);\n",
       "        \n",
       "    \n",
       "        var popup_be20df0cc5c800ddb42ed3d633b5ae7d = L.popup({&quot;maxWidth&quot;: &quot;100%&quot;});\n",
       "\n",
       "        \n",
       "            \n",
       "                var i_frame_f8c1f530932e58400e7bd9ca06ba81c2 = $(`&lt;iframe src=&quot;data:text/html;charset=utf-8;base64,CiAgICA8Yj5NQVJDQTo8L2I+IE1PQklMIDxicj4KICAgICAgICAgICAgICAgICAgICA8Yj5OQU1FOjwvYj4gRURTIEVTU08gSU5EVVNUUklBTCBCT1lBQ0EgPGJyPgogICAgICAgICAgICAgICAgICAgIDxiPlBST0RVQ1RPOjwvYj4gR0FTT0xJTkEgRVhUUkEgT1hJR0VOQURBIDxicj4KICAgICAgICAgICAgICAgICAgICA8Yj5QUkVDSU86PC9iPiAxNzEzMCA8YnI+CiAgICAgICAgICAgICAgICAgICAgPGI+RElTVEFOQ0U6PC9iPiAwLjQxPGJyPgogICAgICAgICAgICAgICAgICAgIDxiPkRJUkVDQ0lPTjo8L2I+IENBUlJFUkEgNzEgTm8uIDE5LTA1PGJyPgogICAgICAgICAgICAgICAgICAgIDxiPlVOSVQ6PC9iPiBLbTxicj4=&quot; width=&quot;360px&quot; style=&quot;border:none !important;&quot; height=&quot;180px&quot;&gt;&lt;/iframe&gt;`)[0];\n",
       "                popup_be20df0cc5c800ddb42ed3d633b5ae7d.setContent(i_frame_f8c1f530932e58400e7bd9ca06ba81c2);\n",
       "            \n",
       "        \n",
       "\n",
       "        marker_5f09bb2732a406a6c7212746c7cd267b.bindPopup(popup_be20df0cc5c800ddb42ed3d633b5ae7d)\n",
       "        ;\n",
       "\n",
       "        \n",
       "    \n",
       "    \n",
       "            var marker_a07ace36e9c6f8a32f70e1177b5893ff = L.marker(\n",
       "                [4.65358, -74.13098],\n",
       "                {}\n",
       "            ).addTo(map_1d06057c1669f0b388b5ac69d48d281a);\n",
       "        \n",
       "    \n",
       "            var icon_002421e69ae7ba9523ed8542c08cbe56 = L.AwesomeMarkers.icon(\n",
       "                {&quot;extraClasses&quot;: &quot;fa-rotate-0&quot;, &quot;icon&quot;: &quot;usd&quot;, &quot;iconColor&quot;: &quot;white&quot;, &quot;markerColor&quot;: &quot;darkgreen&quot;, &quot;prefix&quot;: &quot;glyphicon&quot;}\n",
       "            );\n",
       "            marker_a07ace36e9c6f8a32f70e1177b5893ff.setIcon(icon_002421e69ae7ba9523ed8542c08cbe56);\n",
       "        \n",
       "    \n",
       "        var popup_4dfc488006cf5414a59036f824daacdb = L.popup({&quot;maxWidth&quot;: &quot;100%&quot;});\n",
       "\n",
       "        \n",
       "            \n",
       "                var i_frame_70d2ec8fb9ff7417526f310cceb06c28 = $(`&lt;iframe src=&quot;data:text/html;charset=utf-8;base64,CiAgICA8Yj5NQVJDQTo8L2I+IE1PQklMIDxicj4KICAgICAgICAgICAgICAgICAgICA8Yj5OQU1FOjwvYj4gRVNUQUNJT04gREUgU0VSVklDSU8gTUlMRU5JVU0gR0FTIENBTExFIDEzIDxicj4KICAgICAgICAgICAgICAgICAgICA8Yj5QUk9EVUNUTzo8L2I+IEdBU09MSU5BIEVYVFJBIE9YSUdFTkFEQSA8YnI+CiAgICAgICAgICAgICAgICAgICAgPGI+UFJFQ0lPOjwvYj4gMTY0MDAgPGJyPgogICAgICAgICAgICAgICAgICAgIDxiPkRJU1RBTkNFOjwvYj4gMC40Nzxicj4KICAgICAgICAgICAgICAgICAgICA8Yj5ESVJFQ0NJT046PC9iPiBBVkVOSURBIENBTExFIDE3IE5vLiA3OEctMTE8YnI+CiAgICAgICAgICAgICAgICAgICAgPGI+VU5JVDo8L2I+IEttPGJyPg==&quot; width=&quot;360px&quot; style=&quot;border:none !important;&quot; height=&quot;180px&quot;&gt;&lt;/iframe&gt;`)[0];\n",
       "                popup_4dfc488006cf5414a59036f824daacdb.setContent(i_frame_70d2ec8fb9ff7417526f310cceb06c28);\n",
       "            \n",
       "        \n",
       "\n",
       "        marker_a07ace36e9c6f8a32f70e1177b5893ff.bindPopup(popup_4dfc488006cf5414a59036f824daacdb)\n",
       "        ;\n",
       "\n",
       "        \n",
       "    \n",
       "    \n",
       "            var marker_bd9a12c08c6c13dd76471f3e0a9636fe = L.marker(\n",
       "                [4.65451, -74.12231],\n",
       "                {}\n",
       "            ).addTo(map_1d06057c1669f0b388b5ac69d48d281a);\n",
       "        \n",
       "    \n",
       "            var icon_d30ff0ba5b605ffc1888633a95ca0153 = L.AwesomeMarkers.icon(\n",
       "                {&quot;extraClasses&quot;: &quot;fa-rotate-0&quot;, &quot;icon&quot;: &quot;usd&quot;, &quot;iconColor&quot;: &quot;white&quot;, &quot;markerColor&quot;: &quot;orange&quot;, &quot;prefix&quot;: &quot;glyphicon&quot;}\n",
       "            );\n",
       "            marker_bd9a12c08c6c13dd76471f3e0a9636fe.setIcon(icon_d30ff0ba5b605ffc1888633a95ca0153);\n",
       "        \n",
       "    \n",
       "        var popup_01f6f621b51cbbc65b6d71d77d4cf3d1 = L.popup({&quot;maxWidth&quot;: &quot;100%&quot;});\n",
       "\n",
       "        \n",
       "            \n",
       "                var i_frame_8e3c72fead95a2797f0f5adfd1d0b608 = $(`&lt;iframe src=&quot;data:text/html;charset=utf-8;base64,CiAgICA8Yj5NQVJDQTo8L2I+IFBFVFJPQlJBUyA8YnI+CiAgICAgICAgICAgICAgICAgICAgPGI+TkFNRTo8L2I+IEVTVEFDSU9OIERFIFNFUlZJQ0lPIEZFUlJPQ0FSUklMIDxicj4KICAgICAgICAgICAgICAgICAgICA8Yj5QUk9EVUNUTzo8L2I+IEdBU09MSU5BIEVYVFJBIE9YSUdFTkFEQSA8YnI+CiAgICAgICAgICAgICAgICAgICAgPGI+UFJFQ0lPOjwvYj4gMTY1ODAgPGJyPgogICAgICAgICAgICAgICAgICAgIDxiPkRJU1RBTkNFOjwvYj4gMC41Nzxicj4KICAgICAgICAgICAgICAgICAgICA8Yj5ESVJFQ0NJT046PC9iPiBDQVJSRVJBIDcyIE5vLiAyMS01Mzxicj4KICAgICAgICAgICAgICAgICAgICA8Yj5VTklUOjwvYj4gS208YnI+&quot; width=&quot;360px&quot; style=&quot;border:none !important;&quot; height=&quot;180px&quot;&gt;&lt;/iframe&gt;`)[0];\n",
       "                popup_01f6f621b51cbbc65b6d71d77d4cf3d1.setContent(i_frame_8e3c72fead95a2797f0f5adfd1d0b608);\n",
       "            \n",
       "        \n",
       "\n",
       "        marker_bd9a12c08c6c13dd76471f3e0a9636fe.bindPopup(popup_01f6f621b51cbbc65b6d71d77d4cf3d1)\n",
       "        ;\n",
       "\n",
       "        \n",
       "    \n",
       "    \n",
       "            var marker_ee6a776fe3fcdac549281b745731b373 = L.marker(\n",
       "                [4.64499, -74.13096],\n",
       "                {}\n",
       "            ).addTo(map_1d06057c1669f0b388b5ac69d48d281a);\n",
       "        \n",
       "    \n",
       "            var icon_e4115ef803646258ea9be5f23b607bad = L.AwesomeMarkers.icon(\n",
       "                {&quot;extraClasses&quot;: &quot;fa-rotate-0&quot;, &quot;icon&quot;: &quot;usd&quot;, &quot;iconColor&quot;: &quot;white&quot;, &quot;markerColor&quot;: &quot;orange&quot;, &quot;prefix&quot;: &quot;glyphicon&quot;}\n",
       "            );\n",
       "            marker_ee6a776fe3fcdac549281b745731b373.setIcon(icon_e4115ef803646258ea9be5f23b607bad);\n",
       "        \n",
       "    \n",
       "        var popup_9c5596cb76d7cf6fb3220b4961028cd6 = L.popup({&quot;maxWidth&quot;: &quot;100%&quot;});\n",
       "\n",
       "        \n",
       "            \n",
       "                var i_frame_7dbf2a1fbb1b6256639f0e1f7f0375ae = $(`&lt;iframe src=&quot;data:text/html;charset=utf-8;base64,CiAgICA8Yj5NQVJDQTo8L2I+IEJJT01BWCA8YnI+CiAgICAgICAgICAgICAgICAgICAgPGI+TkFNRTo8L2I+IEVTVEFDSU9OIERFIFNFUlZJQ0lPIFZJTExBIEFMU0FDSUEgPGJyPgogICAgICAgICAgICAgICAgICAgIDxiPlBST0RVQ1RPOjwvYj4gR0FTT0xJTkEgRVhUUkEgT1hJR0VOQURBIDxicj4KICAgICAgICAgICAgICAgICAgICA8Yj5QUkVDSU86PC9iPiAxNzEwMCA8YnI+CiAgICAgICAgICAgICAgICAgICAgPGI+RElTVEFOQ0U6PC9iPiAwLjkyPGJyPgogICAgICAgICAgICAgICAgICAgIDxiPkRJUkVDQ0lPTjo8L2I+IENBTExFIDEyIEJJUyBOby4gNzFHLTUzPGJyPgogICAgICAgICAgICAgICAgICAgIDxiPlVOSVQ6PC9iPiBLbTxicj4=&quot; width=&quot;360px&quot; style=&quot;border:none !important;&quot; height=&quot;180px&quot;&gt;&lt;/iframe&gt;`)[0];\n",
       "                popup_9c5596cb76d7cf6fb3220b4961028cd6.setContent(i_frame_7dbf2a1fbb1b6256639f0e1f7f0375ae);\n",
       "            \n",
       "        \n",
       "\n",
       "        marker_ee6a776fe3fcdac549281b745731b373.bindPopup(popup_9c5596cb76d7cf6fb3220b4961028cd6)\n",
       "        ;\n",
       "\n",
       "        \n",
       "    \n",
       "&lt;/script&gt;\n",
       "&lt;/html&gt;\" style=\"position:absolute;width:100%;height:100%;left:0;top:0;border:none !important;\" allowfullscreen webkitallowfullscreen mozallowfullscreen></iframe></div></div>"
      ],
      "text/plain": [
       "<folium.folium.Map at 0xffff5f2dbdc0>"
      ]
     },
     "execution_count": 84,
     "metadata": {},
     "output_type": "execute_result"
    }
   ],
   "source": [
    "m = folium.Map([geo_source[0],geo_source[1]], zoom_start= 15)\n",
    "\n",
    "folium.Circle(\n",
    "    radius = int(radio)*1000,\n",
    "    location = [geo_source[0],geo_source[1]],\n",
    "    color = 'green',\n",
    "    fill = 'green'\n",
    "\n",
    ").add_to(m)\n",
    "\n",
    "folium.Marker(\n",
    "\n",
    "            location = [geo_source[0],geo_source[1]],\n",
    "            icon =  folium.Icon(color='black',icon_color='white',\n",
    "            icon = \"home\",prefix = 'glyphicon'),\n",
    "            popup = \"<b>Centroid</b>\"\n",
    ").add_to(m)\n",
    "marker_rest(gdf_results_2,m,unit,oil[2],'usd')\n",
    "m"
   ]
  },
  {
   "cell_type": "code",
   "execution_count": null,
   "metadata": {},
   "outputs": [],
   "source": []
  },
  {
   "cell_type": "code",
   "execution_count": null,
   "metadata": {},
   "outputs": [],
   "source": []
  }
 ],
 "metadata": {
  "kernelspec": {
   "display_name": "base",
   "language": "python",
   "name": "python3"
  },
  "language_info": {
   "codemirror_mode": {
    "name": "ipython",
    "version": 3
   },
   "file_extension": ".py",
   "mimetype": "text/x-python",
   "name": "python",
   "nbconvert_exporter": "python",
   "pygments_lexer": "ipython3",
   "version": "3.10.6"
  },
  "orig_nbformat": 4,
  "vscode": {
   "interpreter": {
    "hash": "28b75d8de56fbb179db4c8b60f36828bb7c276a0aa71113c5081cf41384a886d"
   }
  }
 },
 "nbformat": 4,
 "nbformat_minor": 2
}
