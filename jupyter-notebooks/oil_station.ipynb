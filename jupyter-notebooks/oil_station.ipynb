{
 "cells": [
  {
   "cell_type": "code",
   "execution_count": 2,
   "id": "126b9846",
   "metadata": {},
   "outputs": [],
   "source": [
    "import requests\n",
    "import random\n",
    "import pandas as pd \n",
    "from tqdm import tqdm\n",
    "from bs4  import BeautifulSoup\n",
    "import json \n",
    "import time\n",
    "from dotenv import load_dotenv\n",
    "import os"
   ]
  },
  {
   "cell_type": "code",
   "execution_count": 3,
   "id": "a32a63cb",
   "metadata": {},
   "outputs": [
    {
     "data": {
      "text/plain": [
       "True"
      ]
     },
     "execution_count": 3,
     "metadata": {},
     "output_type": "execute_result"
    }
   ],
   "source": [
    "load_dotenv()"
   ]
  },
  {
   "cell_type": "code",
   "execution_count": 4,
   "id": "87d0aac7",
   "metadata": {},
   "outputs": [],
   "source": [
    "YOUR_API_KEY = os.getenv('API_KEY')"
   ]
  },
  {
   "cell_type": "code",
   "execution_count": 5,
   "id": "81d9cec3",
   "metadata": {},
   "outputs": [],
   "source": [
    "df = pd.read_csv('precio_mes_combustible.csv')"
   ]
  },
  {
   "cell_type": "code",
   "execution_count": 6,
   "id": "6c7c38c4",
   "metadata": {},
   "outputs": [
    {
     "data": {
      "text/html": [
       "<div>\n",
       "<style scoped>\n",
       "    .dataframe tbody tr th:only-of-type {\n",
       "        vertical-align: middle;\n",
       "    }\n",
       "\n",
       "    .dataframe tbody tr th {\n",
       "        vertical-align: top;\n",
       "    }\n",
       "\n",
       "    .dataframe thead th {\n",
       "        text-align: right;\n",
       "    }\n",
       "</style>\n",
       "<table border=\"1\" class=\"dataframe\">\n",
       "  <thead>\n",
       "    <tr style=\"text-align: right;\">\n",
       "      <th></th>\n",
       "      <th>Periodo</th>\n",
       "      <th>Mes</th>\n",
       "      <th>Codigo_departamento</th>\n",
       "      <th>Departamento</th>\n",
       "      <th>Codigo_municipio</th>\n",
       "      <th>Municipio</th>\n",
       "      <th>Nombre_comercial</th>\n",
       "      <th>Bandera</th>\n",
       "      <th>Direccion</th>\n",
       "      <th>Producto</th>\n",
       "      <th>Precio</th>\n",
       "      <th>Estado</th>\n",
       "    </tr>\n",
       "  </thead>\n",
       "  <tbody>\n",
       "    <tr>\n",
       "      <th>0</th>\n",
       "      <td>2022</td>\n",
       "      <td>2</td>\n",
       "      <td>11</td>\n",
       "      <td>BOGOTA D.C.</td>\n",
       "      <td>11001</td>\n",
       "      <td>BOGOTA  D.C.</td>\n",
       "      <td>SUPER ESTACION DE SERVICIO TEXACO 10</td>\n",
       "      <td>TEXACO</td>\n",
       "      <td>AVENIDA CARRERA 7 No. 123A-48</td>\n",
       "      <td>GASOLINA CORRIENTE OXIGENADA</td>\n",
       "      <td>9860</td>\n",
       "      <td>A</td>\n",
       "    </tr>\n",
       "    <tr>\n",
       "      <th>1</th>\n",
       "      <td>2022</td>\n",
       "      <td>2</td>\n",
       "      <td>11</td>\n",
       "      <td>BOGOTA D.C.</td>\n",
       "      <td>11001</td>\n",
       "      <td>BOGOTA  D.C.</td>\n",
       "      <td>SUPER ESTACION DE SERVICIO TEXACO 10</td>\n",
       "      <td>TEXACO</td>\n",
       "      <td>AVENIDA CARRERA 7 No. 123A-48</td>\n",
       "      <td>BIODIESEL EXTRA</td>\n",
       "      <td>9780</td>\n",
       "      <td>A</td>\n",
       "    </tr>\n",
       "  </tbody>\n",
       "</table>\n",
       "</div>"
      ],
      "text/plain": [
       "   Periodo  Mes  Codigo_departamento Departamento  Codigo_municipio  \\\n",
       "0     2022    2                   11  BOGOTA D.C.             11001   \n",
       "1     2022    2                   11  BOGOTA D.C.             11001   \n",
       "\n",
       "      Municipio                      Nombre_comercial Bandera  \\\n",
       "0  BOGOTA  D.C.  SUPER ESTACION DE SERVICIO TEXACO 10  TEXACO   \n",
       "1  BOGOTA  D.C.  SUPER ESTACION DE SERVICIO TEXACO 10  TEXACO   \n",
       "\n",
       "                       Direccion                      Producto  Precio Estado  \n",
       "0  AVENIDA CARRERA 7 No. 123A-48  GASOLINA CORRIENTE OXIGENADA    9860      A  \n",
       "1  AVENIDA CARRERA 7 No. 123A-48               BIODIESEL EXTRA    9780      A  "
      ]
     },
     "execution_count": 6,
     "metadata": {},
     "output_type": "execute_result"
    }
   ],
   "source": [
    "df.head(2)"
   ]
  },
  {
   "cell_type": "markdown",
   "id": "ddad1d17",
   "metadata": {},
   "source": [
    "<h1><center>Geocoding Api's</center></h1>\n",
    "\n",
    "## Google API\n",
    "\n",
    "* [**Google_Free_Tier**](https://cloud.google.com/free/?utm_source=google&utm_medium=cpc&utm_campaign=latam-LATAM-all-es-dr-AKWS-all-all-trial-p-dr-1011454-LUAC0013610&utm_content=text-ad-none-any-DEV_c-CRE_540885993580-ADGP_Hybrid%20%7C%20BKWS%20-%20PHR%20%7C%20Txt%20~%20Management-Tools_Console-KWID_43700065922071537-kwd-651816590614&utm_term=KW_google%20console-ST_Google%20Console&gclid=Cj0KCQjwnbmaBhD-ARIsAGTPcfWVMlJlTFywFNaAo8P-MNL4_gM6L7yucqAQ37xg1AIEHzpAzF_kkAoaAsszEALw_wcB&gclsrc=aw.ds)\n",
    "* [**Google_Api_Pricing**](https://mapsplatform.google.com/pricing/)\n",
    "\n",
    "## HERE Platform\n",
    "\n",
    "* [**Here_Register**](https://platform.here.com/sign-up?step=verify-identity&aid=www.here.com-start-building)\n",
    "* [**Here_Princing**](https://www.here.com/pricing)\n",
    "* [**Geocoding_Documentation**](https://developer.here.com/documentation/geocoding-search-api/dev_guide/topics/endpoint-geocode-brief.html)"
   ]
  },
  {
   "cell_type": "markdown",
   "id": "2869c9b2",
   "metadata": {},
   "source": [
    "# Clean Data "
   ]
  },
  {
   "cell_type": "code",
   "execution_count": 7,
   "id": "1c2e4461",
   "metadata": {},
   "outputs": [
    {
     "data": {
      "text/plain": [
       "2"
      ]
     },
     "execution_count": 7,
     "metadata": {},
     "output_type": "execute_result"
    }
   ],
   "source": [
    "df[df['Periodo']==2022]['Mes'].max()"
   ]
  },
  {
   "cell_type": "code",
   "execution_count": 8,
   "id": "faca0bf0",
   "metadata": {},
   "outputs": [],
   "source": [
    "df2 =  df[(df['Periodo']==2022) & (df['Mes']==2)]\n",
    "df2 =  df2[(df2['Departamento']=='ANTIOQUIA') | (df2['Departamento']=='BOGOTA D.C.')]"
   ]
  },
  {
   "cell_type": "code",
   "execution_count": 9,
   "id": "99378d8f",
   "metadata": {},
   "outputs": [
    {
     "data": {
      "text/plain": [
       "BOGOTA  D.C.    1368\n",
       "Name: Municipio, dtype: int64"
      ]
     },
     "execution_count": 9,
     "metadata": {},
     "output_type": "execute_result"
    }
   ],
   "source": [
    "df2['Municipio'].value_counts().head(10)"
   ]
  },
  {
   "cell_type": "code",
   "execution_count": 10,
   "id": "2c8f9233",
   "metadata": {},
   "outputs": [],
   "source": [
    "df3 = df2[(df2['Departamento']=='BOGOTA D.C.') | ((df2['Departamento']=='ANTIOQUIA') & ((df2['Municipio']=='MEDELLIN') | (df2['Municipio']=='ITAGUI') | (df2['Municipio']=='BELLO') | (df2['Municipio']=='SABANETA') | (df2['Municipio']=='RIONEGRO') | (df2['Municipio']=='ENVIGADO')))]\n",
    "df3.reset_index(inplace = True)\n",
    "df3.drop(columns = 'index',inplace = True)"
   ]
  },
  {
   "cell_type": "code",
   "execution_count": 11,
   "id": "a5e4b369",
   "metadata": {},
   "outputs": [
    {
     "data": {
      "text/html": [
       "<div>\n",
       "<style scoped>\n",
       "    .dataframe tbody tr th:only-of-type {\n",
       "        vertical-align: middle;\n",
       "    }\n",
       "\n",
       "    .dataframe tbody tr th {\n",
       "        vertical-align: top;\n",
       "    }\n",
       "\n",
       "    .dataframe thead th {\n",
       "        text-align: right;\n",
       "    }\n",
       "</style>\n",
       "<table border=\"1\" class=\"dataframe\">\n",
       "  <thead>\n",
       "    <tr style=\"text-align: right;\">\n",
       "      <th></th>\n",
       "      <th>Periodo</th>\n",
       "      <th>Mes</th>\n",
       "      <th>Codigo_departamento</th>\n",
       "      <th>Departamento</th>\n",
       "      <th>Codigo_municipio</th>\n",
       "      <th>Municipio</th>\n",
       "      <th>Nombre_comercial</th>\n",
       "      <th>Bandera</th>\n",
       "      <th>Direccion</th>\n",
       "      <th>Producto</th>\n",
       "      <th>Precio</th>\n",
       "      <th>Estado</th>\n",
       "    </tr>\n",
       "  </thead>\n",
       "  <tbody>\n",
       "    <tr>\n",
       "      <th>0</th>\n",
       "      <td>2022</td>\n",
       "      <td>2</td>\n",
       "      <td>11</td>\n",
       "      <td>BOGOTA D.C.</td>\n",
       "      <td>11001</td>\n",
       "      <td>BOGOTA  D.C.</td>\n",
       "      <td>SUPER ESTACION DE SERVICIO TEXACO 10</td>\n",
       "      <td>TEXACO</td>\n",
       "      <td>AVENIDA CARRERA 7 No. 123A-48</td>\n",
       "      <td>GASOLINA CORRIENTE OXIGENADA</td>\n",
       "      <td>9860</td>\n",
       "      <td>A</td>\n",
       "    </tr>\n",
       "    <tr>\n",
       "      <th>1</th>\n",
       "      <td>2022</td>\n",
       "      <td>2</td>\n",
       "      <td>11</td>\n",
       "      <td>BOGOTA D.C.</td>\n",
       "      <td>11001</td>\n",
       "      <td>BOGOTA  D.C.</td>\n",
       "      <td>SUPER ESTACION DE SERVICIO TEXACO 10</td>\n",
       "      <td>TEXACO</td>\n",
       "      <td>AVENIDA CARRERA 7 No. 123A-48</td>\n",
       "      <td>BIODIESEL EXTRA</td>\n",
       "      <td>9780</td>\n",
       "      <td>A</td>\n",
       "    </tr>\n",
       "  </tbody>\n",
       "</table>\n",
       "</div>"
      ],
      "text/plain": [
       "   Periodo  Mes  Codigo_departamento Departamento  Codigo_municipio  \\\n",
       "0     2022    2                   11  BOGOTA D.C.             11001   \n",
       "1     2022    2                   11  BOGOTA D.C.             11001   \n",
       "\n",
       "      Municipio                      Nombre_comercial Bandera  \\\n",
       "0  BOGOTA  D.C.  SUPER ESTACION DE SERVICIO TEXACO 10  TEXACO   \n",
       "1  BOGOTA  D.C.  SUPER ESTACION DE SERVICIO TEXACO 10  TEXACO   \n",
       "\n",
       "                       Direccion                      Producto  Precio Estado  \n",
       "0  AVENIDA CARRERA 7 No. 123A-48  GASOLINA CORRIENTE OXIGENADA    9860      A  \n",
       "1  AVENIDA CARRERA 7 No. 123A-48               BIODIESEL EXTRA    9780      A  "
      ]
     },
     "execution_count": 11,
     "metadata": {},
     "output_type": "execute_result"
    }
   ],
   "source": [
    "df3.head(2)"
   ]
  },
  {
   "cell_type": "code",
   "execution_count": 12,
   "id": "c5ad2d58",
   "metadata": {},
   "outputs": [
    {
     "data": {
      "text/plain": [
       "array(['BOGOTA  D.C.'], dtype=object)"
      ]
     },
     "execution_count": 12,
     "metadata": {},
     "output_type": "execute_result"
    }
   ],
   "source": [
    "df3['Municipio'].unique()"
   ]
  },
  {
   "cell_type": "code",
   "execution_count": 13,
   "id": "69a4db59",
   "metadata": {},
   "outputs": [],
   "source": [
    "df3['Dir2'] = df3['Direccion'].apply(lambda x : x.replace('#','No'))\n",
    "df3['Full_Address'] = df3.apply(lambda x : x['Direccion'] + ', ' + x['Municipio'].capitalize() + ', Colombia' , axis = 1)"
   ]
  },
  {
   "cell_type": "code",
   "execution_count": 14,
   "id": "7cf00a9c",
   "metadata": {},
   "outputs": [
    {
     "data": {
      "text/plain": [
       "376"
      ]
     },
     "execution_count": 14,
     "metadata": {},
     "output_type": "execute_result"
    }
   ],
   "source": [
    "df3['Full_Address'].nunique()"
   ]
  },
  {
   "cell_type": "code",
   "execution_count": 15,
   "id": "cb0b3cf9",
   "metadata": {},
   "outputs": [
    {
     "data": {
      "text/plain": [
       "'AVENIDA CARRERA 7 No. 123A-48, Bogota  d.c., Colombia'"
      ]
     },
     "execution_count": 15,
     "metadata": {},
     "output_type": "execute_result"
    }
   ],
   "source": [
    "df3['Full_Address'][0]"
   ]
  },
  {
   "cell_type": "code",
   "execution_count": 16,
   "id": "1e0e14cb",
   "metadata": {},
   "outputs": [],
   "source": [
    "estaciones =  df3[['Nombre_comercial','Direccion','Full_Address']].drop_duplicates(subset = 'Nombre_comercial')\n",
    "estaciones.reset_index(inplace = True)\n",
    "estaciones.drop(columns = 'index',inplace = True)"
   ]
  },
  {
   "cell_type": "code",
   "execution_count": 17,
   "id": "8e475671",
   "metadata": {},
   "outputs": [
    {
     "data": {
      "text/plain": [
       "'AVENIDA CARRERA 7 No. 123A-48, Bogota  d.c., Colombia'"
      ]
     },
     "execution_count": 17,
     "metadata": {},
     "output_type": "execute_result"
    }
   ],
   "source": [
    "estaciones['Full_Address'][0]"
   ]
  },
  {
   "cell_type": "code",
   "execution_count": 18,
   "id": "a02b33c7",
   "metadata": {},
   "outputs": [],
   "source": [
    "address = estaciones['Full_Address'][0]\n",
    "url = f'https://geocode.search.hereapi.com/v1/geocode?q={address}&apiKey={YOUR_API_KEY}'\n",
    "response = requests.get(url).json()"
   ]
  },
  {
   "cell_type": "code",
   "execution_count": 20,
   "id": "2ec7336c",
   "metadata": {},
   "outputs": [],
   "source": [
    "def Get_Coords(address,YOUR_API_KEY):\n",
    "    \n",
    "    url = f'https://geocode.search.hereapi.com/v1/geocode?q={address}&apiKey={YOUR_API_KEY}'\n",
    "    \n",
    "    try : \n",
    "        \n",
    "        response = requests.get(url).json()\n",
    "        CleanAddress = response['items'][0]['title'].upper()\n",
    "        LAT = response['items'][0]['position']['lat']\n",
    "        LNG = response['items'][0]['position']['lng']\n",
    "        \n",
    "        results = [CleanAddress,LAT,LNG]\n",
    "        \n",
    "    except :\n",
    "        \n",
    "        results = ['Not Found','NA','NA']\n",
    "        \n",
    "    \n",
    "    return results "
   ]
  },
  {
   "cell_type": "code",
   "execution_count": 21,
   "id": "a8c7acee",
   "metadata": {},
   "outputs": [
    {
     "data": {
      "text/plain": [
       "['AVENIDA CARRERA 7 123A-48, 110111 BOGOTÁ, D.C., COLOMBIA',\n",
       " 4.69921,\n",
       " -74.02878]"
      ]
     },
     "execution_count": 21,
     "metadata": {},
     "output_type": "execute_result"
    }
   ],
   "source": [
    "Get_Coords(address,YOUR_API_KEY)"
   ]
  },
  {
   "cell_type": "markdown",
   "id": "e3badb91",
   "metadata": {},
   "source": [
    "# Extracción de coordenadas "
   ]
  },
  {
   "cell_type": "code",
   "execution_count": 22,
   "id": "6421b985",
   "metadata": {},
   "outputs": [
    {
     "name": "stderr",
     "output_type": "stream",
     "text": [
      "100%|\u001b[32m██████████\u001b[0m| 376/376 [02:18<00:00,  2.72it/s]\n"
     ]
    }
   ],
   "source": [
    "coordenadas = []\n",
    "tiempo = [1,2,2.5]\n",
    "\n",
    "for i in tqdm(range(len(estaciones['Full_Address'])),colour = 'green'):\n",
    "    \n",
    "    try :\n",
    "        \n",
    "        R = Get_Coords(estaciones['Full_Address'][i],YOUR_API_KEY)\n",
    "        geo_source = R[1],R[2]\n",
    "        coordenadas.append(geo_source)\n",
    "        \n",
    "    except :\n",
    "        \n",
    "        coordenadas.append('Error')\n",
    "        \n",
    "    \n",
    "    time.sleep(random.choices(tiempo)[0])\n",
    "    \n",
    "        "
   ]
  },
  {
   "cell_type": "code",
   "execution_count": 25,
   "id": "355811d9",
   "metadata": {},
   "outputs": [
    {
     "data": {
      "text/plain": [
       "[(4.69921, -74.02878),\n",
       " (4.60425, -74.09239),\n",
       " ('NA', 'NA'),\n",
       " (4.67007, -74.14334),\n",
       " ('NA', 'NA'),\n",
       " (4.6015, -74.12433),\n",
       " (4.6043, -74.06738),\n",
       " (4.66158, -74.07353),\n",
       " (4.66807, -74.06893),\n",
       " (4.59476, -74.14668),\n",
       " (4.6571, -74.1379),\n",
       " (4.65303, -74.11627),\n",
       " (4.59931, -74.10626),\n",
       " (4.59388, -74.1307),\n",
       " (4.59644, -74.17597),\n",
       " (4.68731, -74.04449),\n",
       " (4.65684, -74.04844),\n",
       " (4.60204, -74.09358),\n",
       " (4.60338, -74.12261),\n",
       " (4.59297, -74.09093),\n",
       " (4.74166, -74.11302),\n",
       " (4.74739, -74.06543),\n",
       " (4.7638, -74.03136),\n",
       " (4.61608, -74.16216),\n",
       " (4.69253, -74.09836),\n",
       " (4.6114, -74.10283),\n",
       " (4.60946, -74.18085),\n",
       " (4.62009, -74.1608),\n",
       " ('NA', 'NA'),\n",
       " (4.59749, -74.1262),\n",
       " (4.65058, -74.07265),\n",
       " (4.72277, -74.03923),\n",
       " (4.68385, -74.14214),\n",
       " (4.62892, -74.08253),\n",
       " (4.67459, -74.12355),\n",
       " (4.75934, -74.04472),\n",
       " (4.61391, -74.13604),\n",
       " (4.6678, -74.14191),\n",
       " ('NA', 'NA'),\n",
       " (4.68307, -74.09824),\n",
       " ('NA', 'NA'),\n",
       " (4.67713, -74.08593),\n",
       " (4.5533, -74.09912),\n",
       " (4.62334, -74.16768),\n",
       " (4.66302, -74.0604),\n",
       " (4.78087, -74.08849),\n",
       " (4.57891, -74.12749),\n",
       " (4.7141, -74.06179),\n",
       " (4.64499, -74.13096),\n",
       " (4.55658, -74.09243),\n",
       " (4.58936, -74.16176),\n",
       " (4.63064, -74.14392),\n",
       " (4.6169, -74.09453),\n",
       " (4.60765, -74.10631),\n",
       " ('NA', 'NA'),\n",
       " (4.67395, -74.10592),\n",
       " (4.58972, -74.08019),\n",
       " (4.75211, -74.09308),\n",
       " (4.66551, -74.0475),\n",
       " ('NA', 'NA'),\n",
       " (4.68345, -74.09745),\n",
       " (4.63263, -74.15412),\n",
       " (4.60198, -74.07564),\n",
       " (4.71372, -74.0972),\n",
       " (4.69234, -74.04468),\n",
       " (4.65511, -74.14057),\n",
       " (4.66381, -74.10939),\n",
       " (4.72144, -74.06111),\n",
       " (4.66439, -74.06078),\n",
       " (4.68585, -74.15736),\n",
       " (4.58721, -74.14414),\n",
       " (4.62831, -74.1117),\n",
       " (4.72004, -74.0588),\n",
       " (4.64432, -74.10201),\n",
       " (4.56743, -74.14495),\n",
       " (4.58991, -74.1097),\n",
       " (4.61255, -74.07059),\n",
       " (4.69811, -74.03135),\n",
       " (4.68846, -74.06214),\n",
       " (4.4976, -74.10764),\n",
       " (4.60209, -74.13342),\n",
       " (4.59909, -74.10656),\n",
       " (4.57797, -74.11128),\n",
       " (4.61071, -74.0755),\n",
       " (4.58172, -74.12751),\n",
       " (4.65215, -74.05788),\n",
       " (4.68947, -74.06588),\n",
       " (4.66173, -74.06685),\n",
       " (4.61872, -74.07497),\n",
       " (4.4976, -74.10764),\n",
       " (4.64453, -74.11058),\n",
       " (4.76895, -74.02372),\n",
       " (4.65073, -74.07017),\n",
       " (4.64151, -74.12302),\n",
       " (4.54672, -74.10843),\n",
       " (4.64371, -74.07861),\n",
       " (4.5998, -74.08636),\n",
       " (4.70806, -74.09624),\n",
       " (4.67252, -74.1054),\n",
       " (4.62499, -74.10176),\n",
       " (4.4998, -74.11691),\n",
       " (4.74136, -74.08869),\n",
       " (4.64006, -74.17305),\n",
       " (4.61311, -74.17137),\n",
       " (4.70376, -74.10181),\n",
       " (4.74738, -74.06466),\n",
       " (4.66249, -74.06731),\n",
       " (4.62324, -74.07698),\n",
       " (4.62997, -74.07854),\n",
       " (4.54922, -74.137),\n",
       " (4.58958, -74.08027),\n",
       " (4.74724, -74.0961),\n",
       " (4.54992, -74.08919),\n",
       " (4.66931, -74.10959),\n",
       " (4.74109, -74.0902),\n",
       " (4.81937, -74.03476),\n",
       " (4.54635, -74.13739),\n",
       " (4.61529, -74.12737),\n",
       " (4.71804, -74.06859),\n",
       " (4.69373, -74.09124),\n",
       " (4.73107, -74.02415),\n",
       " (4.60623, -74.07673),\n",
       " (4.52473, -74.1182),\n",
       " (4.67648, -74.07558),\n",
       " (4.65737, -74.06711),\n",
       " (4.54933, -74.08911),\n",
       " (4.69434, -74.12281),\n",
       " (4.61422, -74.15081),\n",
       " (4.68445, -74.05807),\n",
       " (4.56833, -74.11804),\n",
       " (4.65208, -74.11276),\n",
       " (4.60008, -74.0897),\n",
       " (4.72698, -74.04981),\n",
       " (4.74655, -74.04676),\n",
       " (4.68028, -74.05778),\n",
       " (4.63364, -74.10241),\n",
       " (4.64444, -74.11146),\n",
       " (4.63114, -74.11064),\n",
       " (4.60739, -74.18354),\n",
       " (4.62416, -74.07588),\n",
       " (4.71653, -74.05297),\n",
       " (4.6322, -74.185),\n",
       " (4.66587, -74.07455),\n",
       " (4.71114, -74.04839),\n",
       " (4.62183, -74.11015),\n",
       " (4.59662, -74.17924),\n",
       " (4.72662, -74.06064),\n",
       " (4.67192, -74.05281),\n",
       " (4.60124, -74.06712),\n",
       " (4.59959, -74.10589),\n",
       " (4.74812, -74.04661),\n",
       " (4.799, -74.03818),\n",
       " (4.59202, -74.10644),\n",
       " (4.60635, -74.1263),\n",
       " (4.70015, -74.05656),\n",
       " (4.63915, -74.15992),\n",
       " (4.56665, -74.14426),\n",
       " (4.63199, -74.10363),\n",
       " (4.74029, -74.08854),\n",
       " (4.57725, -74.10783),\n",
       " (4.66782, -74.05365),\n",
       " (4.56746, -74.12669),\n",
       " (4.59843, -74.08895),\n",
       " (4.57908, -74.09235),\n",
       " (4.58578, -74.1163),\n",
       " (4.63267, -74.16551),\n",
       " (4.71882, -74.05593),\n",
       " (4.681, -74.08864),\n",
       " (4.68845, -74.09682),\n",
       " (4.60013, -74.08272),\n",
       " (4.65932, -74.05932),\n",
       " (4.67775, -74.14998),\n",
       " (4.68433, -74.09736),\n",
       " (4.7295, -74.02636),\n",
       " (4.58999, -74.08004),\n",
       " (4.68693, -74.12672),\n",
       " (4.73753, -74.10359),\n",
       " (4.64605, -74.05855),\n",
       " (4.5261, -74.11866),\n",
       " (4.74305, -74.06489),\n",
       " (4.6887, -74.04718),\n",
       " (4.58084, -74.15452),\n",
       " (4.6638, -74.14097),\n",
       " (4.63678, -74.16027),\n",
       " (4.63458, -74.14844),\n",
       " (4.75561, -74.04491),\n",
       " (4.61481, -74.12884),\n",
       " (4.5649, -74.16371),\n",
       " (4.62139, -74.18436),\n",
       " (4.70996, -74.13917),\n",
       " (4.63303, -74.07094),\n",
       " (4.67252, -74.08264),\n",
       " (4.49828, -74.10745),\n",
       " (4.68125, -74.15357),\n",
       " (4.56161, -74.12896),\n",
       " (4.70751, -74.05999),\n",
       " (4.70462, -74.09015),\n",
       " (4.62269, -74.12516),\n",
       " (4.57254, -74.10007),\n",
       " (4.70484, -74.10554),\n",
       " (4.67463, -74.06666),\n",
       " (4.62711, -74.11212),\n",
       " (4.6124, -74.11579),\n",
       " (4.74147, -74.08893),\n",
       " (4.60815, -74.18844),\n",
       " (4.63416, -74.07612),\n",
       " (4.70897, -74.05396),\n",
       " (4.69258, -74.05724),\n",
       " (4.60899, -74.09637),\n",
       " (4.51437, -74.11774),\n",
       " (4.62261, -74.13198),\n",
       " (4.69939, -74.11104),\n",
       " (4.59822, -74.1247),\n",
       " (4.65448, -74.14132),\n",
       " (4.59196, -74.09792),\n",
       " (4.71627, -74.06041),\n",
       " (4.55941, -74.1238),\n",
       " (4.60826, -74.09227),\n",
       " (4.53834, -74.13181),\n",
       " (4.59193, -74.0886),\n",
       " (4.63104, -74.07243),\n",
       " (4.61659, -74.09813),\n",
       " (4.59339, -74.09625),\n",
       " (4.62039, -74.07947),\n",
       " (4.60916, -74.06741),\n",
       " (4.72411, -74.07244),\n",
       " (4.59973, -74.08297),\n",
       " (4.61018, -74.09542),\n",
       " (4.66209, -74.09017),\n",
       " (4.58965, -74.1497),\n",
       " (4.74046, -74.02572),\n",
       " (4.75275, -74.0556),\n",
       " (4.70551, -74.10576),\n",
       " (4.64293, -74.17114),\n",
       " (4.67926, -74.15098),\n",
       " (4.63769, -74.1721),\n",
       " (4.70008, -74.03281),\n",
       " (4.5984, -74.12836),\n",
       " (4.70881, -74.07627),\n",
       " (4.62693, -74.10797),\n",
       " (4.64574, -74.12998),\n",
       " (4.67559, -74.09248),\n",
       " (4.60956, -74.1237),\n",
       " (4.62589, -74.12388),\n",
       " (4.6169, -74.13439),\n",
       " (4.54668, -74.08707),\n",
       " (4.73423, -74.0801),\n",
       " (4.59505, -74.10099),\n",
       " (4.59201, -74.08846),\n",
       " (4.57678, -74.1043),\n",
       " (4.65127, -74.1234),\n",
       " (4.72914, -74.02428),\n",
       " (4.59217, -74.08839),\n",
       " (4.72082, -74.05893),\n",
       " (4.68173, -74.08485),\n",
       " (4.69912, -74.11017),\n",
       " (4.71694, -74.09301),\n",
       " (4.57763, -74.1231),\n",
       " (4.58659, -74.09644),\n",
       " (4.70217, -74.0495),\n",
       " (4.58885, -74.10116),\n",
       " (4.70606, -74.09956),\n",
       " (4.68228, -74.15538),\n",
       " (4.75523, -74.06481),\n",
       " (4.69078, -74.08416),\n",
       " (4.6429, -74.17106),\n",
       " (4.67747, -74.11602),\n",
       " (4.68827, -74.08799),\n",
       " (4.59945, -74.11045),\n",
       " (4.66338, -74.13207),\n",
       " (4.59663, -74.18249),\n",
       " (4.69211, -74.05645),\n",
       " (4.69418, -74.15124),\n",
       " (4.5767, -74.12734),\n",
       " (4.68703, -74.10711),\n",
       " (4.62082, -74.10901),\n",
       " (4.63289, -74.064),\n",
       " (4.71967, -74.04667),\n",
       " (4.65451, -74.12231),\n",
       " (4.61544, -74.08129),\n",
       " (4.73272, -74.09073),\n",
       " (4.62279, -74.10184),\n",
       " (4.59663, -74.18122),\n",
       " (4.47099, -74.12529),\n",
       " (4.67407, -74.11272),\n",
       " (4.5894, -74.08039),\n",
       " (4.68656, -74.06393),\n",
       " (4.61576, -74.14473),\n",
       " (4.59107, -74.09869),\n",
       " (4.50546, -74.09979),\n",
       " (4.56623, -74.08281),\n",
       " (4.57653, -74.0842),\n",
       " (4.57522, -74.15471),\n",
       " (4.52077, -74.12008),\n",
       " (4.58095, -74.08546),\n",
       " (4.59442, -74.11187),\n",
       " (4.68947, -74.06588),\n",
       " (4.58887, -74.09038),\n",
       " (4.59741, -74.11437),\n",
       " (4.58994, -74.14506),\n",
       " (4.61259, -74.14261),\n",
       " (4.63997, -74.16419),\n",
       " (4.65475, -74.14081),\n",
       " (4.60061, -74.16403),\n",
       " (4.81402, -74.05928),\n",
       " (4.6299, -74.16807),\n",
       " (4.74779, -74.0462),\n",
       " (4.65358, -74.13098),\n",
       " (4.67577, -74.14038),\n",
       " (4.75082, -74.04352),\n",
       " (4.60376, -74.07232),\n",
       " (4.50721, -74.10588),\n",
       " (4.62976, -74.12833),\n",
       " (4.68654, -74.08147),\n",
       " (4.58196, -74.06794),\n",
       " (4.70041, -74.07747),\n",
       " (4.61468, -74.13735),\n",
       " (4.60098, -74.13044),\n",
       " (4.61164, -74.13324),\n",
       " (4.55956, -74.10006),\n",
       " (4.62195, -74.12584),\n",
       " (4.72053, -74.09146),\n",
       " (4.63056, -74.1673),\n",
       " (4.60304, -74.07949),\n",
       " (4.74139, -74.0425),\n",
       " (4.55057, -74.09928),\n",
       " (4.59151, -74.12247),\n",
       " (4.76784, -74.02753),\n",
       " (4.60444, -74.1244),\n",
       " (4.70843, -74.1373),\n",
       " (4.53821, -74.13065),\n",
       " (4.55308, -74.08945),\n",
       " (4.64199, -74.11338),\n",
       " (4.53779, -74.13111),\n",
       " (4.62965, -74.18332),\n",
       " (4.59213, -74.08842),\n",
       " (4.60651, -74.14469),\n",
       " (4.68692, -74.09558),\n",
       " (4.59797, -74.10034),\n",
       " (4.69022, -74.09266),\n",
       " (4.6687, -74.07959),\n",
       " (4.51851, -74.09091),\n",
       " (4.5894, -74.08027),\n",
       " (4.74596, -74.03153),\n",
       " (4.60591, -74.12534),\n",
       " (4.57989, -74.08683),\n",
       " (4.57971, -74.14247),\n",
       " (4.62082, -74.18337),\n",
       " (4.49289, -74.10307),\n",
       " (4.57939, -74.09941),\n",
       " (4.62934, -74.10592),\n",
       " (4.58325, -74.068),\n",
       " (4.60302, -74.14303),\n",
       " (4.5562, -74.08461),\n",
       " (4.58186, -74.07512),\n",
       " (4.69277, -74.1213),\n",
       " (4.66067, -74.07769),\n",
       " (4.67607, -74.14087),\n",
       " (4.67689, -74.10215),\n",
       " (4.58977, -74.07112),\n",
       " (4.54858, -74.08447),\n",
       " (4.8168, -74.06954),\n",
       " ('NA', 'NA'),\n",
       " (4.63585, -74.12264),\n",
       " (4.55367, -74.14648),\n",
       " (4.56821, -74.10111),\n",
       " (4.61872, -74.07497),\n",
       " (4.69055, -74.14595),\n",
       " (4.76021, -74.02793),\n",
       " (4.61743, -74.13953),\n",
       " (4.58778, -74.10805),\n",
       " (4.59735, -74.18225),\n",
       " (4.59702, -74.17531),\n",
       " (4.56921, -74.13198),\n",
       " (4.6975, -74.09412),\n",
       " (4.68487, -74.05714)]"
      ]
     },
     "execution_count": 25,
     "metadata": {},
     "output_type": "execute_result"
    }
   ],
   "source": [
    "coordenadas"
   ]
  },
  {
   "cell_type": "code",
   "execution_count": 36,
   "id": "8dcdd207",
   "metadata": {},
   "outputs": [],
   "source": [
    "estaciones['Coords'] = coordenadas"
   ]
  },
  {
   "cell_type": "code",
   "execution_count": 37,
   "id": "e41642f7",
   "metadata": {},
   "outputs": [
    {
     "data": {
      "text/plain": [
       "1368"
      ]
     },
     "execution_count": 37,
     "metadata": {},
     "output_type": "execute_result"
    }
   ],
   "source": [
    "len(df3)"
   ]
  },
  {
   "cell_type": "code",
   "execution_count": 38,
   "id": "379c95f1",
   "metadata": {},
   "outputs": [
    {
     "data": {
      "text/html": [
       "<div>\n",
       "<style scoped>\n",
       "    .dataframe tbody tr th:only-of-type {\n",
       "        vertical-align: middle;\n",
       "    }\n",
       "\n",
       "    .dataframe tbody tr th {\n",
       "        vertical-align: top;\n",
       "    }\n",
       "\n",
       "    .dataframe thead th {\n",
       "        text-align: right;\n",
       "    }\n",
       "</style>\n",
       "<table border=\"1\" class=\"dataframe\">\n",
       "  <thead>\n",
       "    <tr style=\"text-align: right;\">\n",
       "      <th></th>\n",
       "      <th>Nombre_comercial</th>\n",
       "      <th>Direccion</th>\n",
       "      <th>Full_Address</th>\n",
       "      <th>Coords</th>\n",
       "    </tr>\n",
       "  </thead>\n",
       "  <tbody>\n",
       "    <tr>\n",
       "      <th>0</th>\n",
       "      <td>SUPER ESTACION DE SERVICIO TEXACO 10</td>\n",
       "      <td>AVENIDA CARRERA 7 No. 123A-48</td>\n",
       "      <td>AVENIDA CARRERA 7 No. 123A-48, Bogota  d.c., C...</td>\n",
       "      <td>(4.69921, -74.02878)</td>\n",
       "    </tr>\n",
       "    <tr>\n",
       "      <th>1</th>\n",
       "      <td>ESTACION DE SERVICIO ROXI</td>\n",
       "      <td>Carrera 24  No 7-11</td>\n",
       "      <td>Carrera 24  No 7-11, Bogota  d.c., Colombia</td>\n",
       "      <td>(4.60425, -74.09239)</td>\n",
       "    </tr>\n",
       "  </tbody>\n",
       "</table>\n",
       "</div>"
      ],
      "text/plain": [
       "                       Nombre_comercial                      Direccion  \\\n",
       "0  SUPER ESTACION DE SERVICIO TEXACO 10  AVENIDA CARRERA 7 No. 123A-48   \n",
       "1             ESTACION DE SERVICIO ROXI            Carrera 24  No 7-11   \n",
       "\n",
       "                                        Full_Address                Coords  \n",
       "0  AVENIDA CARRERA 7 No. 123A-48, Bogota  d.c., C...  (4.69921, -74.02878)  \n",
       "1        Carrera 24  No 7-11, Bogota  d.c., Colombia  (4.60425, -74.09239)  "
      ]
     },
     "execution_count": 38,
     "metadata": {},
     "output_type": "execute_result"
    }
   ],
   "source": [
    "estaciones.head(2)"
   ]
  },
  {
   "cell_type": "code",
   "execution_count": 32,
   "id": "7ce19248",
   "metadata": {},
   "outputs": [],
   "source": [
    "df_final = pd.merge(df3,estaciones[['Full_Address','Coords']],how = 'inner' , on = 'Full_Address')"
   ]
  },
  {
   "cell_type": "code",
   "execution_count": 33,
   "id": "23c3fe1a",
   "metadata": {},
   "outputs": [
    {
     "data": {
      "text/html": [
       "<div>\n",
       "<style scoped>\n",
       "    .dataframe tbody tr th:only-of-type {\n",
       "        vertical-align: middle;\n",
       "    }\n",
       "\n",
       "    .dataframe tbody tr th {\n",
       "        vertical-align: top;\n",
       "    }\n",
       "\n",
       "    .dataframe thead th {\n",
       "        text-align: right;\n",
       "    }\n",
       "</style>\n",
       "<table border=\"1\" class=\"dataframe\">\n",
       "  <thead>\n",
       "    <tr style=\"text-align: right;\">\n",
       "      <th></th>\n",
       "      <th>Periodo</th>\n",
       "      <th>Mes</th>\n",
       "      <th>Codigo_departamento</th>\n",
       "      <th>Departamento</th>\n",
       "      <th>Codigo_municipio</th>\n",
       "      <th>Municipio</th>\n",
       "      <th>Nombre_comercial</th>\n",
       "      <th>Bandera</th>\n",
       "      <th>Direccion</th>\n",
       "      <th>Producto</th>\n",
       "      <th>Precio</th>\n",
       "      <th>Estado</th>\n",
       "      <th>Dir2</th>\n",
       "      <th>Full_Address</th>\n",
       "      <th>Coords</th>\n",
       "    </tr>\n",
       "  </thead>\n",
       "  <tbody>\n",
       "    <tr>\n",
       "      <th>0</th>\n",
       "      <td>2022</td>\n",
       "      <td>2</td>\n",
       "      <td>11</td>\n",
       "      <td>BOGOTA D.C.</td>\n",
       "      <td>11001</td>\n",
       "      <td>BOGOTA  D.C.</td>\n",
       "      <td>SUPER ESTACION DE SERVICIO TEXACO 10</td>\n",
       "      <td>TEXACO</td>\n",
       "      <td>AVENIDA CARRERA 7 No. 123A-48</td>\n",
       "      <td>GASOLINA CORRIENTE OXIGENADA</td>\n",
       "      <td>9860</td>\n",
       "      <td>A</td>\n",
       "      <td>AVENIDA CARRERA 7 No. 123A-48</td>\n",
       "      <td>AVENIDA CARRERA 7 No. 123A-48, Bogota  d.c., C...</td>\n",
       "      <td>(4.69921, -74.02878)</td>\n",
       "    </tr>\n",
       "    <tr>\n",
       "      <th>1</th>\n",
       "      <td>2022</td>\n",
       "      <td>2</td>\n",
       "      <td>11</td>\n",
       "      <td>BOGOTA D.C.</td>\n",
       "      <td>11001</td>\n",
       "      <td>BOGOTA  D.C.</td>\n",
       "      <td>SUPER ESTACION DE SERVICIO TEXACO 10</td>\n",
       "      <td>TEXACO</td>\n",
       "      <td>AVENIDA CARRERA 7 No. 123A-48</td>\n",
       "      <td>BIODIESEL EXTRA</td>\n",
       "      <td>9780</td>\n",
       "      <td>A</td>\n",
       "      <td>AVENIDA CARRERA 7 No. 123A-48</td>\n",
       "      <td>AVENIDA CARRERA 7 No. 123A-48, Bogota  d.c., C...</td>\n",
       "      <td>(4.69921, -74.02878)</td>\n",
       "    </tr>\n",
       "    <tr>\n",
       "      <th>2</th>\n",
       "      <td>2022</td>\n",
       "      <td>2</td>\n",
       "      <td>11</td>\n",
       "      <td>BOGOTA D.C.</td>\n",
       "      <td>11001</td>\n",
       "      <td>BOGOTA  D.C.</td>\n",
       "      <td>SUPER ESTACION DE SERVICIO TEXACO 10</td>\n",
       "      <td>TEXACO</td>\n",
       "      <td>AVENIDA CARRERA 7 No. 123A-48</td>\n",
       "      <td>GASOLINA EXTRA OXIGENADA</td>\n",
       "      <td>17250</td>\n",
       "      <td>A</td>\n",
       "      <td>AVENIDA CARRERA 7 No. 123A-48</td>\n",
       "      <td>AVENIDA CARRERA 7 No. 123A-48, Bogota  d.c., C...</td>\n",
       "      <td>(4.69921, -74.02878)</td>\n",
       "    </tr>\n",
       "  </tbody>\n",
       "</table>\n",
       "</div>"
      ],
      "text/plain": [
       "   Periodo  Mes  Codigo_departamento Departamento  Codigo_municipio  \\\n",
       "0     2022    2                   11  BOGOTA D.C.             11001   \n",
       "1     2022    2                   11  BOGOTA D.C.             11001   \n",
       "2     2022    2                   11  BOGOTA D.C.             11001   \n",
       "\n",
       "      Municipio                      Nombre_comercial Bandera  \\\n",
       "0  BOGOTA  D.C.  SUPER ESTACION DE SERVICIO TEXACO 10  TEXACO   \n",
       "1  BOGOTA  D.C.  SUPER ESTACION DE SERVICIO TEXACO 10  TEXACO   \n",
       "2  BOGOTA  D.C.  SUPER ESTACION DE SERVICIO TEXACO 10  TEXACO   \n",
       "\n",
       "                       Direccion                      Producto  Precio Estado  \\\n",
       "0  AVENIDA CARRERA 7 No. 123A-48  GASOLINA CORRIENTE OXIGENADA    9860      A   \n",
       "1  AVENIDA CARRERA 7 No. 123A-48               BIODIESEL EXTRA    9780      A   \n",
       "2  AVENIDA CARRERA 7 No. 123A-48      GASOLINA EXTRA OXIGENADA   17250      A   \n",
       "\n",
       "                            Dir2  \\\n",
       "0  AVENIDA CARRERA 7 No. 123A-48   \n",
       "1  AVENIDA CARRERA 7 No. 123A-48   \n",
       "2  AVENIDA CARRERA 7 No. 123A-48   \n",
       "\n",
       "                                        Full_Address                Coords  \n",
       "0  AVENIDA CARRERA 7 No. 123A-48, Bogota  d.c., C...  (4.69921, -74.02878)  \n",
       "1  AVENIDA CARRERA 7 No. 123A-48, Bogota  d.c., C...  (4.69921, -74.02878)  \n",
       "2  AVENIDA CARRERA 7 No. 123A-48, Bogota  d.c., C...  (4.69921, -74.02878)  "
      ]
     },
     "execution_count": 33,
     "metadata": {},
     "output_type": "execute_result"
    }
   ],
   "source": [
    "df_final.head(3)"
   ]
  },
  {
   "cell_type": "code",
   "execution_count": 34,
   "id": "074390ab",
   "metadata": {},
   "outputs": [],
   "source": [
    "df_final = pd.merge(df3,estaciones[['Full_Address','Coords']],how = 'inner' , on = 'Full_Address')"
   ]
  },
  {
   "cell_type": "code",
   "execution_count": 35,
   "id": "7a4810c4",
   "metadata": {},
   "outputs": [],
   "source": [
    "df_final.to_csv('DATASET_FINAL.CSV',index = False)"
   ]
  }
 ],
 "metadata": {
  "kernelspec": {
   "display_name": "Python 3 (ipykernel)",
   "language": "python",
   "name": "python3"
  },
  "language_info": {
   "name": "python",
   "version": "3.10.9 (main, Dec 15 2022, 17:11:09) [Clang 14.0.0 (clang-1400.0.29.202)]"
  },
  "vscode": {
   "interpreter": {
    "hash": "6b055c99a4caf5bf9b380a88b87db5eb7a42f21edf86e2ad684f16a148234611"
   }
  }
 },
 "nbformat": 4,
 "nbformat_minor": 5
}
